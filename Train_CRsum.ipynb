{
 "cells": [
  {
   "cell_type": "markdown",
   "metadata": {},
   "source": [
    "https://github.com/tensorflow/tensorflow/pull/33497/files"
   ]
  },
  {
   "cell_type": "code",
   "execution_count": 1,
   "metadata": {},
   "outputs": [],
   "source": [
    "from models.supervised import CRSum"
   ]
  },
  {
   "cell_type": "code",
   "execution_count": 2,
   "metadata": {},
   "outputs": [],
   "source": [
    "csm = CRSum(5,5)"
   ]
  },
  {
   "cell_type": "code",
   "execution_count": 3,
   "metadata": {},
   "outputs": [
    {
     "name": "stdout",
     "output_type": "stream",
     "text": [
      "Loading training data...\n",
      "Done.\n"
     ]
    }
   ],
   "source": [
    "csm.loadTrainingData()"
   ]
  },
  {
   "cell_type": "code",
   "execution_count": null,
   "metadata": {
    "scrolled": true
   },
   "outputs": [
    {
     "name": "stdout",
     "output_type": "stream",
     "text": [
      "Loading prebuilt embedding matrices.\n",
      "Done.\n",
      "Preparing training data...\n",
      "Processing stm5\n",
      "Processing stm4\n",
      "Processing stm3\n",
      "Processing stm2\n",
      "Processing stm1\n",
      "Processing st\n",
      "Processing stn1\n",
      "Processing stn2\n",
      "Processing stn3\n",
      "Processing stn4\n",
      "Processing stn5\n",
      "Done.\n",
      "Building model...\n",
      "Done.\n",
      "Train on 858438 samples\n",
      "Epoch 1/20\n",
      "858112/858438 [============================>.] - ETA: 0s - loss: 0.0050\n",
      "Epoch 00001: loss improved from inf to 0.00497, saving model to ./supervised_models/epoch001-0.00497011.h5\n",
      "858438/858438 [==============================] - 350s 408us/sample - loss: 0.0050\n",
      "Epoch 2/20\n",
      "858112/858438 [============================>.] - ETA: 0s - loss: 0.0021\n",
      "Epoch 00002: loss improved from 0.00497 to 0.00213, saving model to ./supervised_models/epoch002-0.00212608.h5\n",
      "858438/858438 [==============================] - 338s 393us/sample - loss: 0.0021\n",
      "Epoch 3/20\n",
      "858112/858438 [============================>.] - ETA: 0s - loss: 0.0019\n",
      "Epoch 00003: loss improved from 0.00213 to 0.00185, saving model to ./supervised_models/epoch003-0.00185071.h5\n",
      "858438/858438 [==============================] - 341s 398us/sample - loss: 0.0019\n",
      "Epoch 4/20\n",
      "858112/858438 [============================>.] - ETA: 0s - loss: 0.0017\n",
      "Epoch 00004: loss improved from 0.00185 to 0.00167, saving model to ./supervised_models/epoch004-0.00167118.h5\n",
      "858438/858438 [==============================] - 345s 402us/sample - loss: 0.0017\n",
      "Epoch 5/20\n",
      "858112/858438 [============================>.] - ETA: 0s - loss: 0.0015\n",
      "Epoch 00005: loss improved from 0.00167 to 0.00154, saving model to ./supervised_models/epoch005-0.00154037.h5\n",
      "858438/858438 [==============================] - 350s 408us/sample - loss: 0.0015\n",
      "Epoch 6/20\n",
      "858112/858438 [============================>.] - ETA: 0s - loss: 0.0014\n",
      "Epoch 00006: loss improved from 0.00154 to 0.00144, saving model to ./supervised_models/epoch006-0.00143921.h5\n",
      "858438/858438 [==============================] - 363s 423us/sample - loss: 0.0014\n",
      "Epoch 7/20\n",
      "858112/858438 [============================>.] - ETA: 0s - loss: 0.0014\n",
      "Epoch 00007: loss improved from 0.00144 to 0.00137, saving model to ./supervised_models/epoch007-0.00137461.h5\n",
      "858438/858438 [==============================] - 372s 434us/sample - loss: 0.0014\n",
      "Epoch 8/20\n",
      "858112/858438 [============================>.] - ETA: 0s - loss: 0.0013\n",
      "Epoch 00008: loss improved from 0.00137 to 0.00132, saving model to ./supervised_models/epoch008-0.00132406.h5\n",
      "858438/858438 [==============================] - 376s 438us/sample - loss: 0.0013\n",
      "Epoch 9/20\n",
      "858112/858438 [============================>.] - ETA: 0s - loss: 0.0013\n",
      "Epoch 00009: loss improved from 0.00132 to 0.00129, saving model to ./supervised_models/epoch009-0.00128826.h5\n",
      "858438/858438 [==============================] - 382s 445us/sample - loss: 0.0013\n",
      "Epoch 10/20\n",
      "858112/858438 [============================>.] - ETA: 0s - loss: 0.0013\n",
      "Epoch 00010: loss improved from 0.00129 to 0.00126, saving model to ./supervised_models/epoch010-0.00126191.h5\n",
      "858438/858438 [==============================] - 393s 457us/sample - loss: 0.0013\n",
      "Epoch 11/20\n",
      "858112/858438 [============================>.] - ETA: 0s - loss: 0.0012\n",
      "Epoch 00011: loss improved from 0.00126 to 0.00124, saving model to ./supervised_models/epoch011-0.00123873.h5\n",
      "858438/858438 [==============================] - 405s 472us/sample - loss: 0.0012\n",
      "Epoch 12/20\n",
      "858112/858438 [============================>.] - ETA: 0s - loss: 0.0012\n",
      "Epoch 00012: loss improved from 0.00124 to 0.00122, saving model to ./supervised_models/epoch012-0.00122035.h5\n",
      "858438/858438 [==============================] - 408s 475us/sample - loss: 0.0012\n",
      "Epoch 13/20\n",
      "858112/858438 [============================>.] - ETA: 0s - loss: 0.0012\n",
      "Epoch 00013: loss improved from 0.00122 to 0.00121, saving model to ./supervised_models/epoch013-0.00121047.h5\n",
      "858438/858438 [==============================] - 415s 483us/sample - loss: 0.0012\n",
      "Epoch 14/20\n",
      "858112/858438 [============================>.] - ETA: 0s - loss: 0.0012\n",
      "Epoch 00014: loss improved from 0.00121 to 0.00120, saving model to ./supervised_models/epoch014-0.00119608.h5\n",
      "858438/858438 [==============================] - 421s 490us/sample - loss: 0.0012\n",
      "Epoch 15/20\n",
      "858112/858438 [============================>.] - ETA: 0s - loss: 0.0012\n",
      "Epoch 00015: loss improved from 0.00120 to 0.00118, saving model to ./supervised_models/epoch015-0.00117969.h5\n",
      "858438/858438 [==============================] - 433s 504us/sample - loss: 0.0012\n",
      "Epoch 16/20\n",
      "858112/858438 [============================>.] - ETA: 0s - loss: 0.0012\n",
      "Epoch 00016: loss improved from 0.00118 to 0.00117, saving model to ./supervised_models/epoch016-0.00117077.h5\n",
      "858438/858438 [==============================] - 442s 514us/sample - loss: 0.0012\n",
      "Epoch 17/20\n",
      "858112/858438 [============================>.] - ETA: 0s - loss: 0.0012\n",
      "Epoch 00017: loss improved from 0.00117 to 0.00116, saving model to ./supervised_models/epoch017-0.00116076.h5\n",
      "858438/858438 [==============================] - 460s 536us/sample - loss: 0.0012\n",
      "Epoch 18/20\n",
      "858112/858438 [============================>.] - ETA: 0s - loss: 0.0012\n",
      "Epoch 00018: loss improved from 0.00116 to 0.00115, saving model to ./supervised_models/epoch018-0.00115488.h5\n",
      "858438/858438 [==============================] - 470s 547us/sample - loss: 0.0012\n",
      "Epoch 19/20\n",
      "858112/858438 [============================>.] - ETA: 0s - loss: 0.0011\n",
      "Epoch 00019: loss improved from 0.00115 to 0.00114, saving model to ./supervised_models/epoch019-0.00114398.h5\n",
      "858438/858438 [==============================] - 473s 550us/sample - loss: 0.0011\n",
      "Epoch 20/20\n",
      "571904/858438 [==================>...........] - ETA: 2:37 - loss: 0.0011"
     ]
    }
   ],
   "source": [
    "csm.train(epochs=20, batch_size=512)"
   ]
  },
  {
   "cell_type": "code",
   "execution_count": null,
   "metadata": {},
   "outputs": [],
   "source": [
    "csm.loadModel(\"epoch020-0.00124268.h5\")"
   ]
  },
  {
   "cell_type": "code",
   "execution_count": null,
   "metadata": {},
   "outputs": [],
   "source": [
    "csm.eval()"
   ]
  },
  {
   "cell_type": "code",
   "execution_count": null,
   "metadata": {},
   "outputs": [],
   "source": [
    "type(\"sd\")"
   ]
  },
  {
   "cell_type": "code",
   "execution_count": null,
   "metadata": {},
   "outputs": [],
   "source": []
  }
 ],
 "metadata": {
  "kernelspec": {
   "display_name": "Python 3",
   "language": "python",
   "name": "python3"
  },
  "language_info": {
   "codemirror_mode": {
    "name": "ipython",
    "version": 3
   },
   "file_extension": ".py",
   "mimetype": "text/x-python",
   "name": "python",
   "nbconvert_exporter": "python",
   "pygments_lexer": "ipython3",
   "version": "3.7.4"
  }
 },
 "nbformat": 4,
 "nbformat_minor": 2
}
