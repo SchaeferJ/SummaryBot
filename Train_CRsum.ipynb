{
 "cells": [
  {
   "cell_type": "markdown",
   "metadata": {},
   "source": [
    "# Training of the CRSum model"
   ]
  },
  {
   "cell_type": "markdown",
   "metadata": {},
   "source": [
    "The CRSum Model is based on:\n",
    "https://www.microsoft.com/en-us/research/wp-content/uploads/2017/07/ren-leveraging-2017.pdf\n",
    "\n",
    "Code derived from:\n",
    "https://github.com/jerrykuo7727/CRSum-SF"
   ]
  },
  {
   "cell_type": "markdown",
   "metadata": {},
   "source": [
    "## IMPORTANT\n",
    "\n",
    "If you are experiencing errors referring to problems in handling indexed slices, try updating your version of TensorFlow. If this does not mitigate the problem, apply the following bugfix manually:\n",
    "\n",
    "https://github.com/tensorflow/tensorflow/pull/33497/files"
   ]
  },
  {
   "cell_type": "code",
   "execution_count": 1,
   "metadata": {},
   "outputs": [],
   "source": [
    "from models.supervised import CRSum"
   ]
  },
  {
   "cell_type": "code",
   "execution_count": 2,
   "metadata": {},
   "outputs": [],
   "source": [
    "csm = CRSum(5,5)"
   ]
  },
  {
   "cell_type": "code",
   "execution_count": 3,
   "metadata": {},
   "outputs": [
    {
     "name": "stdout",
     "output_type": "stream",
     "text": [
      "Loading training data...\n",
      "Done.\n"
     ]
    }
   ],
   "source": [
    "csm.loadTrainingData()"
   ]
  },
  {
   "cell_type": "code",
   "execution_count": null,
   "metadata": {
    "scrolled": true
   },
   "outputs": [
    {
     "name": "stdout",
     "output_type": "stream",
     "text": [
      "Loading prebuilt embedding matrices.\n",
      "Done.\n",
      "Preparing training data...\n",
      "Processing stm5\n",
      "Processing stm4\n",
      "Processing stm3\n",
      "Processing stm2\n",
      "Processing stm1\n",
      "Processing st\n",
      "Processing stn1\n",
      "Processing stn2\n",
      "Processing stn3\n",
      "Processing stn4\n",
      "Processing stn5\n",
      "Done.\n",
      "Building model...\n",
      "Done.\n",
      "Train on 858438 samples\n",
      "Epoch 1/20\n",
      "858112/858438 [============================>.] - ETA: 0s - loss: 0.0106\n",
      "Epoch 00001: loss improved from inf to 0.01062, saving model to ./supervised_models/epoch001-0.01061672.h5\n",
      "858438/858438 [==============================] - 354s 412us/sample - loss: 0.0106\n",
      "Epoch 2/20\n",
      "858112/858438 [============================>.] - ETA: 0s - loss: 0.0028\n",
      "Epoch 00002: loss improved from 0.01062 to 0.00279, saving model to ./supervised_models/epoch002-0.00279391.h5\n",
      "858438/858438 [==============================] - 334s 389us/sample - loss: 0.0028\n",
      "Epoch 3/20\n",
      "858112/858438 [============================>.] - ETA: 0s - loss: 0.0024\n",
      "Epoch 00003: loss improved from 0.00279 to 0.00237, saving model to ./supervised_models/epoch003-0.00236538.h5\n",
      "858438/858438 [==============================] - 332s 387us/sample - loss: 0.0024\n",
      "Epoch 4/20\n",
      "858112/858438 [============================>.] - ETA: 0s - loss: 0.0022\n",
      "Epoch 00004: loss improved from 0.00237 to 0.00219, saving model to ./supervised_models/epoch004-0.00219158.h5\n",
      "858438/858438 [==============================] - 345s 402us/sample - loss: 0.0022\n",
      "Epoch 5/20\n",
      "858112/858438 [============================>.] - ETA: 0s - loss: 0.0021\n",
      "Epoch 00005: loss improved from 0.00219 to 0.00207, saving model to ./supervised_models/epoch005-0.00207181.h5\n",
      "858438/858438 [==============================] - 351s 408us/sample - loss: 0.0021\n",
      "Epoch 6/20\n",
      "858112/858438 [============================>.] - ETA: 0s - loss: 0.0020\n",
      "Epoch 00006: loss improved from 0.00207 to 0.00197, saving model to ./supervised_models/epoch006-0.00197114.h5\n",
      "858438/858438 [==============================] - 346s 404us/sample - loss: 0.0020\n",
      "Epoch 7/20\n",
      "858112/858438 [============================>.] - ETA: 0s - loss: 0.0019\n",
      "Epoch 00007: loss improved from 0.00197 to 0.00189, saving model to ./supervised_models/epoch007-0.00188844.h5\n",
      "858438/858438 [==============================] - 387s 450us/sample - loss: 0.0019\n",
      "Epoch 8/20\n",
      "858112/858438 [============================>.] - ETA: 0s - loss: 0.0018\n",
      "Epoch 00008: loss improved from 0.00189 to 0.00182, saving model to ./supervised_models/epoch008-0.00181727.h5\n",
      "858438/858438 [==============================] - 368s 428us/sample - loss: 0.0018\n",
      "Epoch 9/20\n",
      "858112/858438 [============================>.] - ETA: 0s - loss: 0.0018\n",
      "Epoch 00009: loss improved from 0.00182 to 0.00176, saving model to ./supervised_models/epoch009-0.00176229.h5\n",
      "858438/858438 [==============================] - 361s 421us/sample - loss: 0.0018\n",
      "Epoch 10/20\n",
      "858112/858438 [============================>.] - ETA: 0s - loss: 0.0017\n",
      "Epoch 00010: loss improved from 0.00176 to 0.00171, saving model to ./supervised_models/epoch010-0.00170733.h5\n",
      "858438/858438 [==============================] - 357s 416us/sample - loss: 0.0017\n",
      "Epoch 11/20\n",
      "858112/858438 [============================>.] - ETA: 0s - loss: 0.0017\n",
      "Epoch 00011: loss improved from 0.00171 to 0.00167, saving model to ./supervised_models/epoch011-0.00167065.h5\n",
      "858438/858438 [==============================] - 344s 401us/sample - loss: 0.0017\n",
      "Epoch 12/20\n",
      "858112/858438 [============================>.] - ETA: 0s - loss: 0.0016\n",
      "Epoch 00012: loss improved from 0.00167 to 0.00163, saving model to ./supervised_models/epoch012-0.00162674.h5\n",
      "858438/858438 [==============================] - 347s 404us/sample - loss: 0.0016\n",
      "Epoch 13/20\n",
      "858112/858438 [============================>.] - ETA: 0s - loss: 0.0016\n",
      "Epoch 00013: loss improved from 0.00163 to 0.00158, saving model to ./supervised_models/epoch013-0.00158385.h5\n",
      "858438/858438 [==============================] - 346s 403us/sample - loss: 0.0016\n",
      "Epoch 14/20\n",
      "372736/858438 [============>.................] - ETA: 3:10 - loss: 0.0016"
     ]
    }
   ],
   "source": [
    "csm.train(epochs=20, batch_size=2048)"
   ]
  },
  {
   "cell_type": "code",
   "execution_count": null,
   "metadata": {},
   "outputs": [],
   "source": [
    "csm.eval()"
   ]
  }
 ],
 "metadata": {
  "kernelspec": {
   "display_name": "Python 3",
   "language": "python",
   "name": "python3"
  },
  "language_info": {
   "codemirror_mode": {
    "name": "ipython",
    "version": 3
   },
   "file_extension": ".py",
   "mimetype": "text/x-python",
   "name": "python",
   "nbconvert_exporter": "python",
   "pygments_lexer": "ipython3",
   "version": "3.7.4"
  }
 },
 "nbformat": 4,
 "nbformat_minor": 2
}
