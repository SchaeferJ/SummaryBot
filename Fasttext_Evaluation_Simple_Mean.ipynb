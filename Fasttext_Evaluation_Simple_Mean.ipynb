{
 "cells": [
  {
   "cell_type": "code",
   "execution_count": 1,
   "metadata": {},
   "outputs": [],
   "source": [
    "import pandas as pd\n",
    "import tqdm\n",
    "from rouge import Rouge"
   ]
  },
  {
   "cell_type": "code",
   "execution_count": 2,
   "metadata": {},
   "outputs": [],
   "source": [
    "from Fasttext import FTEmbedder\n",
    "from Preprocessors import StandardPreprocessor\n",
    "from models.unsupervised import kMeans"
   ]
  },
  {
   "cell_type": "code",
   "execution_count": 3,
   "metadata": {},
   "outputs": [],
   "source": [
    "test_data = pd.read_pickle(\"./training_data/test_raw.pkl\")"
   ]
  },
  {
   "cell_type": "code",
   "execution_count": 4,
   "metadata": {},
   "outputs": [],
   "source": [
    "test_data = test_data.sort_values(by=['Language'])"
   ]
  },
  {
   "cell_type": "code",
   "execution_count": 5,
   "metadata": {},
   "outputs": [
    {
     "data": {
      "text/html": [
       "<div>\n",
       "<style scoped>\n",
       "    .dataframe tbody tr th:only-of-type {\n",
       "        vertical-align: middle;\n",
       "    }\n",
       "\n",
       "    .dataframe tbody tr th {\n",
       "        vertical-align: top;\n",
       "    }\n",
       "\n",
       "    .dataframe thead th {\n",
       "        text-align: right;\n",
       "    }\n",
       "</style>\n",
       "<table border=\"1\" class=\"dataframe\">\n",
       "  <thead>\n",
       "    <tr style=\"text-align: right;\">\n",
       "      <th></th>\n",
       "      <th>index</th>\n",
       "      <th>Lead</th>\n",
       "      <th>Body</th>\n",
       "      <th>Language</th>\n",
       "      <th>ID</th>\n",
       "      <th>isTrain</th>\n",
       "    </tr>\n",
       "  </thead>\n",
       "  <tbody>\n",
       "    <tr>\n",
       "      <td>3</td>\n",
       "      <td>3</td>\n",
       "      <td>Rod Eddington, BA's chief executive, said the ...</td>\n",
       "      <td>High fuel prices hit BA's profits  British Air...</td>\n",
       "      <td>English</td>\n",
       "      <td>3</td>\n",
       "      <td>False</td>\n",
       "    </tr>\n",
       "    <tr>\n",
       "      <td>1465</td>\n",
       "      <td>1465</td>\n",
       "      <td>Chester have won only two of their last 10 Lea...</td>\n",
       "      <td>Rush future at Chester uncertain  Ian Rush's f...</td>\n",
       "      <td>English</td>\n",
       "      <td>1465</td>\n",
       "      <td>False</td>\n",
       "    </tr>\n",
       "    <tr>\n",
       "      <td>1463</td>\n",
       "      <td>1463</td>\n",
       "      <td>Victory took Real to within six points of lead...</td>\n",
       "      <td>Owen delighted with Real display  Michael Owen...</td>\n",
       "      <td>English</td>\n",
       "      <td>1463</td>\n",
       "      <td>False</td>\n",
       "    </tr>\n",
       "    <tr>\n",
       "      <td>1456</td>\n",
       "      <td>1456</td>\n",
       "      <td>\"We got our goals early and in the minds of so...</td>\n",
       "      <td>Souness delight at Euro progress  Boss Graeme ...</td>\n",
       "      <td>English</td>\n",
       "      <td>1456</td>\n",
       "      <td>False</td>\n",
       "    </tr>\n",
       "    <tr>\n",
       "      <td>1454</td>\n",
       "      <td>1454</td>\n",
       "      <td>\"For a fourth-choice striker at the start I'm ...</td>\n",
       "      <td>Owen determined to stay in Madrid  England for...</td>\n",
       "      <td>English</td>\n",
       "      <td>1454</td>\n",
       "      <td>False</td>\n",
       "    </tr>\n",
       "  </tbody>\n",
       "</table>\n",
       "</div>"
      ],
      "text/plain": [
       "      index                                               Lead  \\\n",
       "3         3  Rod Eddington, BA's chief executive, said the ...   \n",
       "1465   1465  Chester have won only two of their last 10 Lea...   \n",
       "1463   1463  Victory took Real to within six points of lead...   \n",
       "1456   1456  \"We got our goals early and in the minds of so...   \n",
       "1454   1454  \"For a fourth-choice striker at the start I'm ...   \n",
       "\n",
       "                                                   Body Language    ID  \\\n",
       "3     High fuel prices hit BA's profits  British Air...  English     3   \n",
       "1465  Rush future at Chester uncertain  Ian Rush's f...  English  1465   \n",
       "1463  Owen delighted with Real display  Michael Owen...  English  1463   \n",
       "1456  Souness delight at Euro progress  Boss Graeme ...  English  1456   \n",
       "1454  Owen determined to stay in Madrid  England for...  English  1454   \n",
       "\n",
       "      isTrain  \n",
       "3       False  \n",
       "1465    False  \n",
       "1463    False  \n",
       "1456    False  \n",
       "1454    False  "
      ]
     },
     "execution_count": 5,
     "metadata": {},
     "output_type": "execute_result"
    }
   ],
   "source": [
    "test_data.head()"
   ]
  },
  {
   "cell_type": "code",
   "execution_count": 6,
   "metadata": {},
   "outputs": [],
   "source": [
    "summarizer = kMeans(FTEmbedder, StandardPreprocessor)"
   ]
  },
  {
   "cell_type": "code",
   "execution_count": 7,
   "metadata": {},
   "outputs": [],
   "source": [
    "summaries = []"
   ]
  },
  {
   "cell_type": "code",
   "execution_count": 8,
   "metadata": {},
   "outputs": [],
   "source": [
    "flatdict = {}\n",
    "rouge = Rouge()"
   ]
  },
  {
   "cell_type": "code",
   "execution_count": 9,
   "metadata": {},
   "outputs": [
    {
     "name": "stderr",
     "output_type": "stream",
     "text": [
      "/home/swrdata/anaconda3/lib/python3.7/site-packages/ipykernel_launcher.py:1: TqdmDeprecationWarning: This function will be removed in tqdm==5.0.0\n",
      "Please use `tqdm.notebook.tqdm` instead of `tqdm.tqdm_notebook`\n",
      "  \"\"\"Entry point for launching an IPython kernel.\n"
     ]
    },
    {
     "data": {
      "application/vnd.jupyter.widget-view+json": {
       "model_id": "7cb9683a3e2e441faffee0fd2ef403ed",
       "version_major": 2,
       "version_minor": 0
      },
      "text/plain": [
       "HBox(children=(FloatProgress(value=0.0, max=6315.0), HTML(value='')))"
      ]
     },
     "metadata": {},
     "output_type": "display_data"
    },
    {
     "name": "stdout",
     "output_type": "stream",
     "text": [
      "Loading embeddings for English\n",
      "Done.\n"
     ]
    },
    {
     "name": "stderr",
     "output_type": "stream",
     "text": [
      "[nltk_data] Downloading package stopwords to\n",
      "[nltk_data]     /home/swrdata/nltk_data...\n",
      "[nltk_data]   Package stopwords is already up-to-date!\n"
     ]
    },
    {
     "name": "stdout",
     "output_type": "stream",
     "text": [
      "Loading embeddings for French\n",
      "Done.\n"
     ]
    },
    {
     "name": "stderr",
     "output_type": "stream",
     "text": [
      "[nltk_data] Downloading package stopwords to\n",
      "[nltk_data]     /home/swrdata/nltk_data...\n",
      "[nltk_data]   Package stopwords is already up-to-date!\n",
      "/home/swrdata/anaconda3/lib/python3.7/site-packages/sklearn/cluster/_k_means.py:88: RuntimeWarning: divide by zero encountered in log\n",
      "  n_local_trials = 2 + int(np.log(n_clusters))\n",
      "/home/swrdata/anaconda3/lib/python3.7/site-packages/sklearn/cluster/_k_means.py:88: RuntimeWarning: divide by zero encountered in log\n",
      "  n_local_trials = 2 + int(np.log(n_clusters))\n",
      "/home/swrdata/anaconda3/lib/python3.7/site-packages/sklearn/cluster/_k_means.py:88: RuntimeWarning: divide by zero encountered in log\n",
      "  n_local_trials = 2 + int(np.log(n_clusters))\n",
      "/home/swrdata/anaconda3/lib/python3.7/site-packages/sklearn/cluster/_k_means.py:88: RuntimeWarning: divide by zero encountered in log\n",
      "  n_local_trials = 2 + int(np.log(n_clusters))\n",
      "/home/swrdata/anaconda3/lib/python3.7/site-packages/sklearn/cluster/_k_means.py:88: RuntimeWarning: divide by zero encountered in log\n",
      "  n_local_trials = 2 + int(np.log(n_clusters))\n",
      "/home/swrdata/anaconda3/lib/python3.7/site-packages/sklearn/cluster/_k_means.py:88: RuntimeWarning: divide by zero encountered in log\n",
      "  n_local_trials = 2 + int(np.log(n_clusters))\n",
      "/home/swrdata/anaconda3/lib/python3.7/site-packages/sklearn/cluster/_k_means.py:88: RuntimeWarning: divide by zero encountered in log\n",
      "  n_local_trials = 2 + int(np.log(n_clusters))\n",
      "/home/swrdata/anaconda3/lib/python3.7/site-packages/sklearn/cluster/_k_means.py:88: RuntimeWarning: divide by zero encountered in log\n",
      "  n_local_trials = 2 + int(np.log(n_clusters))\n",
      "/home/swrdata/anaconda3/lib/python3.7/site-packages/sklearn/cluster/_k_means.py:88: RuntimeWarning: divide by zero encountered in log\n",
      "  n_local_trials = 2 + int(np.log(n_clusters))\n"
     ]
    },
    {
     "name": "stdout",
     "output_type": "stream",
     "text": [
      "Loading embeddings for German\n",
      "Done.\n"
     ]
    },
    {
     "name": "stderr",
     "output_type": "stream",
     "text": [
      "[nltk_data] Downloading package stopwords to\n",
      "[nltk_data]     /home/swrdata/nltk_data...\n",
      "[nltk_data]   Package stopwords is already up-to-date!\n",
      "/home/swrdata/anaconda3/lib/python3.7/site-packages/sklearn/cluster/_k_means.py:88: RuntimeWarning: divide by zero encountered in log\n",
      "  n_local_trials = 2 + int(np.log(n_clusters))\n",
      "/home/swrdata/anaconda3/lib/python3.7/site-packages/sklearn/cluster/_k_means.py:88: RuntimeWarning: divide by zero encountered in log\n",
      "  n_local_trials = 2 + int(np.log(n_clusters))\n",
      "/home/swrdata/anaconda3/lib/python3.7/site-packages/sklearn/cluster/_k_means.py:88: RuntimeWarning: divide by zero encountered in log\n",
      "  n_local_trials = 2 + int(np.log(n_clusters))\n",
      "/home/swrdata/anaconda3/lib/python3.7/site-packages/sklearn/cluster/_k_means.py:88: RuntimeWarning: divide by zero encountered in log\n",
      "  n_local_trials = 2 + int(np.log(n_clusters))\n"
     ]
    },
    {
     "name": "stdout",
     "output_type": "stream",
     "text": [
      "\n"
     ]
    }
   ],
   "source": [
    "for i, row in tqdm.tqdm_notebook(test_data.iterrows(), total=len(test_data.index)):\n",
    "    try:\n",
    "        smry = summarizer.summarize(row.Body, row.Language, 0.3, sif=False)\n",
    "    except:\n",
    "        smry = \" \"\n",
    "    summaries.append(smry)\n",
    "    flatlist = []\n",
    "    scores = rouge.get_scores(smry, row.Lead)[0]\n",
    "    for metric in scores:\n",
    "        for key in scores[metric]:\n",
    "            flatlist.append(scores[metric][key])\n",
    "    flatdict[i] = flatlist"
   ]
  },
  {
   "cell_type": "code",
   "execution_count": 10,
   "metadata": {},
   "outputs": [],
   "source": [
    "test_data[\"Summary_Fasttext\"] = summaries"
   ]
  },
  {
   "cell_type": "code",
   "execution_count": 11,
   "metadata": {},
   "outputs": [],
   "source": [
    "r_scores = pd.DataFrame.from_dict(flatdict, orient=\"index\",\n",
    "                       columns=['R1_f', 'R1_p', 'R1_r', 'R2_f', 'R2_p', 'R2_r','Rl_f', 'Rl_p', 'Rl_r'])"
   ]
  },
  {
   "cell_type": "code",
   "execution_count": 12,
   "metadata": {},
   "outputs": [],
   "source": [
    "test_data = pd.merge(test_data, r_scores, left_index=True, right_index=True)"
   ]
  },
  {
   "cell_type": "code",
   "execution_count": 13,
   "metadata": {},
   "outputs": [
    {
     "data": {
      "text/html": [
       "<div>\n",
       "<style scoped>\n",
       "    .dataframe tbody tr th:only-of-type {\n",
       "        vertical-align: middle;\n",
       "    }\n",
       "\n",
       "    .dataframe tbody tr th {\n",
       "        vertical-align: top;\n",
       "    }\n",
       "\n",
       "    .dataframe thead th {\n",
       "        text-align: right;\n",
       "    }\n",
       "</style>\n",
       "<table border=\"1\" class=\"dataframe\">\n",
       "  <thead>\n",
       "    <tr style=\"text-align: right;\">\n",
       "      <th></th>\n",
       "      <th>index</th>\n",
       "      <th>Lead</th>\n",
       "      <th>Body</th>\n",
       "      <th>Language</th>\n",
       "      <th>ID</th>\n",
       "      <th>isTrain</th>\n",
       "      <th>Summary_Fasttext</th>\n",
       "      <th>R1_f</th>\n",
       "      <th>R1_p</th>\n",
       "      <th>R1_r</th>\n",
       "      <th>R2_f</th>\n",
       "      <th>R2_p</th>\n",
       "      <th>R2_r</th>\n",
       "      <th>Rl_f</th>\n",
       "      <th>Rl_p</th>\n",
       "      <th>Rl_r</th>\n",
       "    </tr>\n",
       "  </thead>\n",
       "  <tbody>\n",
       "    <tr>\n",
       "      <td>3</td>\n",
       "      <td>3</td>\n",
       "      <td>Rod Eddington, BA's chief executive, said the ...</td>\n",
       "      <td>High fuel prices hit BA's profits  British Air...</td>\n",
       "      <td>English</td>\n",
       "      <td>3</td>\n",
       "      <td>False</td>\n",
       "      <td>Reporting its results for the three months to ...</td>\n",
       "      <td>0.475904</td>\n",
       "      <td>0.626984</td>\n",
       "      <td>0.383495</td>\n",
       "      <td>0.321212</td>\n",
       "      <td>0.424000</td>\n",
       "      <td>0.258537</td>\n",
       "      <td>0.463519</td>\n",
       "      <td>0.551020</td>\n",
       "      <td>0.400000</td>\n",
       "    </tr>\n",
       "    <tr>\n",
       "      <td>1465</td>\n",
       "      <td>1465</td>\n",
       "      <td>Chester have won only two of their last 10 Lea...</td>\n",
       "      <td>Rush future at Chester uncertain  Ian Rush's f...</td>\n",
       "      <td>English</td>\n",
       "      <td>1465</td>\n",
       "      <td>False</td>\n",
       "      <td>Chester have won only two of their last 10 Lea...</td>\n",
       "      <td>0.606383</td>\n",
       "      <td>0.850746</td>\n",
       "      <td>0.471074</td>\n",
       "      <td>0.580645</td>\n",
       "      <td>0.818182</td>\n",
       "      <td>0.450000</td>\n",
       "      <td>0.652778</td>\n",
       "      <td>0.839286</td>\n",
       "      <td>0.534091</td>\n",
       "    </tr>\n",
       "    <tr>\n",
       "      <td>1463</td>\n",
       "      <td>1463</td>\n",
       "      <td>Victory took Real to within six points of lead...</td>\n",
       "      <td>Owen delighted with Real display  Michael Owen...</td>\n",
       "      <td>English</td>\n",
       "      <td>1463</td>\n",
       "      <td>False</td>\n",
       "      <td>Owen delighted with Real display  Michael Owen...</td>\n",
       "      <td>0.818182</td>\n",
       "      <td>0.960000</td>\n",
       "      <td>0.712871</td>\n",
       "      <td>0.770115</td>\n",
       "      <td>0.905405</td>\n",
       "      <td>0.670000</td>\n",
       "      <td>0.842105</td>\n",
       "      <td>0.949153</td>\n",
       "      <td>0.756757</td>\n",
       "    </tr>\n",
       "    <tr>\n",
       "      <td>1456</td>\n",
       "      <td>1456</td>\n",
       "      <td>\"We got our goals early and in the minds of so...</td>\n",
       "      <td>Souness delight at Euro progress  Boss Graeme ...</td>\n",
       "      <td>English</td>\n",
       "      <td>1456</td>\n",
       "      <td>False</td>\n",
       "      <td>An early own goal followed by an Alan Shearer ...</td>\n",
       "      <td>0.406780</td>\n",
       "      <td>0.571429</td>\n",
       "      <td>0.315789</td>\n",
       "      <td>0.331429</td>\n",
       "      <td>0.467742</td>\n",
       "      <td>0.256637</td>\n",
       "      <td>0.406250</td>\n",
       "      <td>0.530612</td>\n",
       "      <td>0.329114</td>\n",
       "    </tr>\n",
       "    <tr>\n",
       "      <td>1454</td>\n",
       "      <td>1454</td>\n",
       "      <td>\"For a fourth-choice striker at the start I'm ...</td>\n",
       "      <td>Owen determined to stay in Madrid  England for...</td>\n",
       "      <td>English</td>\n",
       "      <td>1454</td>\n",
       "      <td>False</td>\n",
       "      <td>Owen determined to stay in Madrid  England for...</td>\n",
       "      <td>0.474820</td>\n",
       "      <td>0.702128</td>\n",
       "      <td>0.358696</td>\n",
       "      <td>0.376812</td>\n",
       "      <td>0.559140</td>\n",
       "      <td>0.284153</td>\n",
       "      <td>0.521739</td>\n",
       "      <td>0.695652</td>\n",
       "      <td>0.417391</td>\n",
       "    </tr>\n",
       "  </tbody>\n",
       "</table>\n",
       "</div>"
      ],
      "text/plain": [
       "      index                                               Lead  \\\n",
       "3         3  Rod Eddington, BA's chief executive, said the ...   \n",
       "1465   1465  Chester have won only two of their last 10 Lea...   \n",
       "1463   1463  Victory took Real to within six points of lead...   \n",
       "1456   1456  \"We got our goals early and in the minds of so...   \n",
       "1454   1454  \"For a fourth-choice striker at the start I'm ...   \n",
       "\n",
       "                                                   Body Language    ID  \\\n",
       "3     High fuel prices hit BA's profits  British Air...  English     3   \n",
       "1465  Rush future at Chester uncertain  Ian Rush's f...  English  1465   \n",
       "1463  Owen delighted with Real display  Michael Owen...  English  1463   \n",
       "1456  Souness delight at Euro progress  Boss Graeme ...  English  1456   \n",
       "1454  Owen determined to stay in Madrid  England for...  English  1454   \n",
       "\n",
       "      isTrain                                   Summary_Fasttext      R1_f  \\\n",
       "3       False  Reporting its results for the three months to ...  0.475904   \n",
       "1465    False  Chester have won only two of their last 10 Lea...  0.606383   \n",
       "1463    False  Owen delighted with Real display  Michael Owen...  0.818182   \n",
       "1456    False  An early own goal followed by an Alan Shearer ...  0.406780   \n",
       "1454    False  Owen determined to stay in Madrid  England for...  0.474820   \n",
       "\n",
       "          R1_p      R1_r      R2_f      R2_p      R2_r      Rl_f      Rl_p  \\\n",
       "3     0.626984  0.383495  0.321212  0.424000  0.258537  0.463519  0.551020   \n",
       "1465  0.850746  0.471074  0.580645  0.818182  0.450000  0.652778  0.839286   \n",
       "1463  0.960000  0.712871  0.770115  0.905405  0.670000  0.842105  0.949153   \n",
       "1456  0.571429  0.315789  0.331429  0.467742  0.256637  0.406250  0.530612   \n",
       "1454  0.702128  0.358696  0.376812  0.559140  0.284153  0.521739  0.695652   \n",
       "\n",
       "          Rl_r  \n",
       "3     0.400000  \n",
       "1465  0.534091  \n",
       "1463  0.756757  \n",
       "1456  0.329114  \n",
       "1454  0.417391  "
      ]
     },
     "execution_count": 13,
     "metadata": {},
     "output_type": "execute_result"
    }
   ],
   "source": [
    "test_data.head()"
   ]
  },
  {
   "cell_type": "code",
   "execution_count": 15,
   "metadata": {},
   "outputs": [
    {
     "data": {
      "text/plain": [
       "count    6315.000000\n",
       "mean        0.068935\n",
       "std         0.122381\n",
       "min         0.000000\n",
       "25%         0.000000\n",
       "50%         0.023881\n",
       "75%         0.065217\n",
       "max         0.844444\n",
       "Name: R2_f, dtype: float64"
      ]
     },
     "execution_count": 15,
     "metadata": {},
     "output_type": "execute_result"
    }
   ],
   "source": [
    "test_data.R2_f.describe()"
   ]
  },
  {
   "cell_type": "code",
   "execution_count": null,
   "metadata": {},
   "outputs": [],
   "source": []
  }
 ],
 "metadata": {
  "kernelspec": {
   "display_name": "Python 3",
   "language": "python",
   "name": "python3"
  },
  "language_info": {
   "codemirror_mode": {
    "name": "ipython",
    "version": 3
   },
   "file_extension": ".py",
   "mimetype": "text/x-python",
   "name": "python",
   "nbconvert_exporter": "python",
   "pygments_lexer": "ipython3",
   "version": "3.7.4"
  }
 },
 "nbformat": 4,
 "nbformat_minor": 2
}
