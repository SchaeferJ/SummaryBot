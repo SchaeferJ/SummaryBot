{
 "cells": [
  {
   "cell_type": "code",
   "execution_count": 11,
   "metadata": {},
   "outputs": [],
   "source": [
    "import pandas as pd\n",
    "import tqdm\n",
    "from rouge import Rouge"
   ]
  },
  {
   "cell_type": "code",
   "execution_count": 2,
   "metadata": {},
   "outputs": [],
   "source": [
    "from Fasttext import FTEmbedder\n",
    "from Preprocessors import StandardPreprocessor\n",
    "from models.unsupervised import kMeans"
   ]
  },
  {
   "cell_type": "code",
   "execution_count": 3,
   "metadata": {},
   "outputs": [],
   "source": [
    "test_data = pd.read_pickle(\"./training_data/test_raw.pkl\")"
   ]
  },
  {
   "cell_type": "code",
   "execution_count": 4,
   "metadata": {},
   "outputs": [],
   "source": [
    "test_data = test_data.sort_values(by=['Language'])"
   ]
  },
  {
   "cell_type": "code",
   "execution_count": 5,
   "metadata": {},
   "outputs": [
    {
     "data": {
      "text/html": [
       "<div>\n",
       "<style scoped>\n",
       "    .dataframe tbody tr th:only-of-type {\n",
       "        vertical-align: middle;\n",
       "    }\n",
       "\n",
       "    .dataframe tbody tr th {\n",
       "        vertical-align: top;\n",
       "    }\n",
       "\n",
       "    .dataframe thead th {\n",
       "        text-align: right;\n",
       "    }\n",
       "</style>\n",
       "<table border=\"1\" class=\"dataframe\">\n",
       "  <thead>\n",
       "    <tr style=\"text-align: right;\">\n",
       "      <th></th>\n",
       "      <th>index</th>\n",
       "      <th>Lead</th>\n",
       "      <th>Body</th>\n",
       "      <th>Language</th>\n",
       "      <th>ID</th>\n",
       "      <th>isTrain</th>\n",
       "    </tr>\n",
       "  </thead>\n",
       "  <tbody>\n",
       "    <tr>\n",
       "      <td>3</td>\n",
       "      <td>3</td>\n",
       "      <td>Rod Eddington, BA's chief executive, said the ...</td>\n",
       "      <td>High fuel prices hit BA's profits  British Air...</td>\n",
       "      <td>English</td>\n",
       "      <td>3</td>\n",
       "      <td>False</td>\n",
       "    </tr>\n",
       "    <tr>\n",
       "      <td>1465</td>\n",
       "      <td>1465</td>\n",
       "      <td>Chester have won only two of their last 10 Lea...</td>\n",
       "      <td>Rush future at Chester uncertain  Ian Rush's f...</td>\n",
       "      <td>English</td>\n",
       "      <td>1465</td>\n",
       "      <td>False</td>\n",
       "    </tr>\n",
       "    <tr>\n",
       "      <td>1463</td>\n",
       "      <td>1463</td>\n",
       "      <td>Victory took Real to within six points of lead...</td>\n",
       "      <td>Owen delighted with Real display  Michael Owen...</td>\n",
       "      <td>English</td>\n",
       "      <td>1463</td>\n",
       "      <td>False</td>\n",
       "    </tr>\n",
       "    <tr>\n",
       "      <td>1456</td>\n",
       "      <td>1456</td>\n",
       "      <td>\"We got our goals early and in the minds of so...</td>\n",
       "      <td>Souness delight at Euro progress  Boss Graeme ...</td>\n",
       "      <td>English</td>\n",
       "      <td>1456</td>\n",
       "      <td>False</td>\n",
       "    </tr>\n",
       "    <tr>\n",
       "      <td>1454</td>\n",
       "      <td>1454</td>\n",
       "      <td>\"For a fourth-choice striker at the start I'm ...</td>\n",
       "      <td>Owen determined to stay in Madrid  England for...</td>\n",
       "      <td>English</td>\n",
       "      <td>1454</td>\n",
       "      <td>False</td>\n",
       "    </tr>\n",
       "  </tbody>\n",
       "</table>\n",
       "</div>"
      ],
      "text/plain": [
       "      index                                               Lead  \\\n",
       "3         3  Rod Eddington, BA's chief executive, said the ...   \n",
       "1465   1465  Chester have won only two of their last 10 Lea...   \n",
       "1463   1463  Victory took Real to within six points of lead...   \n",
       "1456   1456  \"We got our goals early and in the minds of so...   \n",
       "1454   1454  \"For a fourth-choice striker at the start I'm ...   \n",
       "\n",
       "                                                   Body Language    ID  \\\n",
       "3     High fuel prices hit BA's profits  British Air...  English     3   \n",
       "1465  Rush future at Chester uncertain  Ian Rush's f...  English  1465   \n",
       "1463  Owen delighted with Real display  Michael Owen...  English  1463   \n",
       "1456  Souness delight at Euro progress  Boss Graeme ...  English  1456   \n",
       "1454  Owen determined to stay in Madrid  England for...  English  1454   \n",
       "\n",
       "      isTrain  \n",
       "3       False  \n",
       "1465    False  \n",
       "1463    False  \n",
       "1456    False  \n",
       "1454    False  "
      ]
     },
     "execution_count": 5,
     "metadata": {},
     "output_type": "execute_result"
    }
   ],
   "source": [
    "test_data.head()"
   ]
  },
  {
   "cell_type": "code",
   "execution_count": 6,
   "metadata": {},
   "outputs": [],
   "source": [
    "summarizer = kMeans(FTEmbedder, StandardPreprocessor)"
   ]
  },
  {
   "cell_type": "code",
   "execution_count": 7,
   "metadata": {},
   "outputs": [],
   "source": [
    "summaries = []"
   ]
  },
  {
   "cell_type": "code",
   "execution_count": 12,
   "metadata": {},
   "outputs": [],
   "source": [
    "flatdict = {}\n",
    "rouge = Rouge()"
   ]
  },
  {
   "cell_type": "code",
   "execution_count": 13,
   "metadata": {},
   "outputs": [
    {
     "name": "stderr",
     "output_type": "stream",
     "text": [
      "/home/swrdata/anaconda3/lib/python3.7/site-packages/ipykernel_launcher.py:1: TqdmDeprecationWarning: This function will be removed in tqdm==5.0.0\n",
      "Please use `tqdm.notebook.tqdm` instead of `tqdm.tqdm_notebook`\n",
      "  \"\"\"Entry point for launching an IPython kernel.\n"
     ]
    },
    {
     "data": {
      "application/vnd.jupyter.widget-view+json": {
       "model_id": "ba1fd74c277a4cc49c4f71ffe62ce5eb",
       "version_major": 2,
       "version_minor": 0
      },
      "text/plain": [
       "HBox(children=(FloatProgress(value=0.0, max=6315.0), HTML(value='')))"
      ]
     },
     "metadata": {},
     "output_type": "display_data"
    },
    {
     "name": "stdout",
     "output_type": "stream",
     "text": [
      "Loading embeddings for English\n",
      "Done.\n"
     ]
    },
    {
     "name": "stderr",
     "output_type": "stream",
     "text": [
      "[nltk_data] Downloading package stopwords to\n",
      "[nltk_data]     /home/swrdata/nltk_data...\n",
      "[nltk_data]   Package stopwords is already up-to-date!\n"
     ]
    },
    {
     "name": "stdout",
     "output_type": "stream",
     "text": [
      "Loading embeddings for French\n",
      "Done.\n"
     ]
    },
    {
     "name": "stderr",
     "output_type": "stream",
     "text": [
      "[nltk_data] Downloading package stopwords to\n",
      "[nltk_data]     /home/swrdata/nltk_data...\n",
      "[nltk_data]   Package stopwords is already up-to-date!\n",
      "/home/swrdata/anaconda3/lib/python3.7/site-packages/sklearn/decomposition/_truncated_svd.py:194: RuntimeWarning: invalid value encountered in true_divide\n",
      "  self.explained_variance_ratio_ = exp_var / full_var\n",
      "/home/swrdata/anaconda3/lib/python3.7/site-packages/sklearn/cluster/_k_means.py:88: RuntimeWarning: divide by zero encountered in log\n",
      "  n_local_trials = 2 + int(np.log(n_clusters))\n",
      "/home/swrdata/anaconda3/lib/python3.7/site-packages/sklearn/decomposition/_truncated_svd.py:194: RuntimeWarning: invalid value encountered in true_divide\n",
      "  self.explained_variance_ratio_ = exp_var / full_var\n",
      "/home/swrdata/anaconda3/lib/python3.7/site-packages/sklearn/cluster/_k_means.py:88: RuntimeWarning: divide by zero encountered in log\n",
      "  n_local_trials = 2 + int(np.log(n_clusters))\n",
      "/home/swrdata/anaconda3/lib/python3.7/site-packages/sklearn/decomposition/_truncated_svd.py:194: RuntimeWarning: invalid value encountered in true_divide\n",
      "  self.explained_variance_ratio_ = exp_var / full_var\n",
      "/home/swrdata/anaconda3/lib/python3.7/site-packages/sklearn/cluster/_k_means.py:88: RuntimeWarning: divide by zero encountered in log\n",
      "  n_local_trials = 2 + int(np.log(n_clusters))\n",
      "/home/swrdata/anaconda3/lib/python3.7/site-packages/sklearn/decomposition/_truncated_svd.py:194: RuntimeWarning: invalid value encountered in true_divide\n",
      "  self.explained_variance_ratio_ = exp_var / full_var\n",
      "/home/swrdata/anaconda3/lib/python3.7/site-packages/sklearn/cluster/_k_means.py:88: RuntimeWarning: divide by zero encountered in log\n",
      "  n_local_trials = 2 + int(np.log(n_clusters))\n",
      "/home/swrdata/anaconda3/lib/python3.7/site-packages/sklearn/decomposition/_truncated_svd.py:194: RuntimeWarning: invalid value encountered in true_divide\n",
      "  self.explained_variance_ratio_ = exp_var / full_var\n",
      "/home/swrdata/anaconda3/lib/python3.7/site-packages/sklearn/cluster/_k_means.py:88: RuntimeWarning: divide by zero encountered in log\n",
      "  n_local_trials = 2 + int(np.log(n_clusters))\n",
      "/home/swrdata/anaconda3/lib/python3.7/site-packages/sklearn/decomposition/_truncated_svd.py:194: RuntimeWarning: invalid value encountered in true_divide\n",
      "  self.explained_variance_ratio_ = exp_var / full_var\n",
      "/home/swrdata/anaconda3/lib/python3.7/site-packages/sklearn/cluster/_k_means.py:88: RuntimeWarning: divide by zero encountered in log\n",
      "  n_local_trials = 2 + int(np.log(n_clusters))\n",
      "/home/swrdata/anaconda3/lib/python3.7/site-packages/sklearn/decomposition/_truncated_svd.py:194: RuntimeWarning: invalid value encountered in true_divide\n",
      "  self.explained_variance_ratio_ = exp_var / full_var\n",
      "/home/swrdata/anaconda3/lib/python3.7/site-packages/sklearn/cluster/_k_means.py:88: RuntimeWarning: divide by zero encountered in log\n",
      "  n_local_trials = 2 + int(np.log(n_clusters))\n",
      "/home/swrdata/anaconda3/lib/python3.7/site-packages/sklearn/decomposition/_truncated_svd.py:194: RuntimeWarning: invalid value encountered in true_divide\n",
      "  self.explained_variance_ratio_ = exp_var / full_var\n",
      "/home/swrdata/anaconda3/lib/python3.7/site-packages/sklearn/cluster/_k_means.py:88: RuntimeWarning: divide by zero encountered in log\n",
      "  n_local_trials = 2 + int(np.log(n_clusters))\n",
      "/home/swrdata/anaconda3/lib/python3.7/site-packages/sklearn/decomposition/_truncated_svd.py:194: RuntimeWarning: invalid value encountered in true_divide\n",
      "  self.explained_variance_ratio_ = exp_var / full_var\n",
      "/home/swrdata/anaconda3/lib/python3.7/site-packages/sklearn/cluster/_k_means.py:88: RuntimeWarning: divide by zero encountered in log\n",
      "  n_local_trials = 2 + int(np.log(n_clusters))\n"
     ]
    },
    {
     "name": "stdout",
     "output_type": "stream",
     "text": [
      "Loading embeddings for German\n",
      "Done.\n"
     ]
    },
    {
     "name": "stderr",
     "output_type": "stream",
     "text": [
      "[nltk_data] Downloading package stopwords to\n",
      "[nltk_data]     /home/swrdata/nltk_data...\n",
      "[nltk_data]   Package stopwords is already up-to-date!\n",
      "/home/swrdata/anaconda3/lib/python3.7/site-packages/sklearn/decomposition/_truncated_svd.py:194: RuntimeWarning: invalid value encountered in true_divide\n",
      "  self.explained_variance_ratio_ = exp_var / full_var\n",
      "/home/swrdata/anaconda3/lib/python3.7/site-packages/sklearn/cluster/_k_means.py:88: RuntimeWarning: divide by zero encountered in log\n",
      "  n_local_trials = 2 + int(np.log(n_clusters))\n",
      "/home/swrdata/anaconda3/lib/python3.7/site-packages/sklearn/decomposition/_truncated_svd.py:194: RuntimeWarning: invalid value encountered in true_divide\n",
      "  self.explained_variance_ratio_ = exp_var / full_var\n",
      "/home/swrdata/anaconda3/lib/python3.7/site-packages/sklearn/cluster/_k_means.py:88: RuntimeWarning: divide by zero encountered in log\n",
      "  n_local_trials = 2 + int(np.log(n_clusters))\n",
      "/home/swrdata/anaconda3/lib/python3.7/site-packages/sklearn/decomposition/_truncated_svd.py:194: RuntimeWarning: invalid value encountered in true_divide\n",
      "  self.explained_variance_ratio_ = exp_var / full_var\n",
      "/home/swrdata/anaconda3/lib/python3.7/site-packages/sklearn/cluster/_k_means.py:88: RuntimeWarning: divide by zero encountered in log\n",
      "  n_local_trials = 2 + int(np.log(n_clusters))\n",
      "/home/swrdata/anaconda3/lib/python3.7/site-packages/sklearn/decomposition/_truncated_svd.py:194: RuntimeWarning: invalid value encountered in true_divide\n",
      "  self.explained_variance_ratio_ = exp_var / full_var\n",
      "/home/swrdata/anaconda3/lib/python3.7/site-packages/sklearn/cluster/_k_means.py:88: RuntimeWarning: divide by zero encountered in log\n",
      "  n_local_trials = 2 + int(np.log(n_clusters))\n"
     ]
    },
    {
     "name": "stdout",
     "output_type": "stream",
     "text": [
      "\n"
     ]
    }
   ],
   "source": [
    "for i, row in tqdm.tqdm_notebook(test_data.iterrows(), total=len(test_data.index)):\n",
    "    try:\n",
    "        smry = summarizer.summarize(row.Body, row.Language, 0.3, sif=True)\n",
    "    except:\n",
    "        smry = \" \"\n",
    "    summaries.append(smry)\n",
    "    flatlist = []\n",
    "    scores = rouge.get_scores(smry, row.Lead)[0]\n",
    "    for metric in scores:\n",
    "        for key in scores[metric]:\n",
    "            flatlist.append(scores[metric][key])\n",
    "    flatdict[i] = flatlist"
   ]
  },
  {
   "cell_type": "code",
   "execution_count": 14,
   "metadata": {},
   "outputs": [],
   "source": [
    "test_data[\"Summary_Fasttext\"] = summaries"
   ]
  },
  {
   "cell_type": "code",
   "execution_count": 15,
   "metadata": {},
   "outputs": [],
   "source": [
    "r_scores = pd.DataFrame.from_dict(flatdict, orient=\"index\",\n",
    "                       columns=['R1_f', 'R1_p', 'R1_r', 'R2_f', 'R2_p', 'R2_r','Rl_f', 'Rl_p', 'Rl_r'])"
   ]
  },
  {
   "cell_type": "code",
   "execution_count": 16,
   "metadata": {},
   "outputs": [],
   "source": [
    "test_data = pd.merge(test_data, r_scores, left_index=True, right_index=True)"
   ]
  },
  {
   "cell_type": "code",
   "execution_count": 17,
   "metadata": {},
   "outputs": [
    {
     "data": {
      "text/html": [
       "<div>\n",
       "<style scoped>\n",
       "    .dataframe tbody tr th:only-of-type {\n",
       "        vertical-align: middle;\n",
       "    }\n",
       "\n",
       "    .dataframe tbody tr th {\n",
       "        vertical-align: top;\n",
       "    }\n",
       "\n",
       "    .dataframe thead th {\n",
       "        text-align: right;\n",
       "    }\n",
       "</style>\n",
       "<table border=\"1\" class=\"dataframe\">\n",
       "  <thead>\n",
       "    <tr style=\"text-align: right;\">\n",
       "      <th></th>\n",
       "      <th>index</th>\n",
       "      <th>Lead</th>\n",
       "      <th>Body</th>\n",
       "      <th>Language</th>\n",
       "      <th>ID</th>\n",
       "      <th>isTrain</th>\n",
       "      <th>Summary_Fasttext</th>\n",
       "      <th>R1_f</th>\n",
       "      <th>R1_p</th>\n",
       "      <th>R1_r</th>\n",
       "      <th>R2_f</th>\n",
       "      <th>R2_p</th>\n",
       "      <th>R2_r</th>\n",
       "      <th>Rl_f</th>\n",
       "      <th>Rl_p</th>\n",
       "      <th>Rl_r</th>\n",
       "    </tr>\n",
       "  </thead>\n",
       "  <tbody>\n",
       "    <tr>\n",
       "      <td>3</td>\n",
       "      <td>3</td>\n",
       "      <td>Rod Eddington, BA's chief executive, said the ...</td>\n",
       "      <td>High fuel prices hit BA's profits  British Air...</td>\n",
       "      <td>English</td>\n",
       "      <td>3</td>\n",
       "      <td>False</td>\n",
       "      <td>Reporting its results for the three months to ...</td>\n",
       "      <td>0.262821</td>\n",
       "      <td>0.386792</td>\n",
       "      <td>0.199029</td>\n",
       "      <td>0.083871</td>\n",
       "      <td>0.123810</td>\n",
       "      <td>0.063415</td>\n",
       "      <td>0.231111</td>\n",
       "      <td>0.288889</td>\n",
       "      <td>0.192593</td>\n",
       "    </tr>\n",
       "    <tr>\n",
       "      <td>1465</td>\n",
       "      <td>1465</td>\n",
       "      <td>Chester have won only two of their last 10 Lea...</td>\n",
       "      <td>Rush future at Chester uncertain  Ian Rush's f...</td>\n",
       "      <td>English</td>\n",
       "      <td>1465</td>\n",
       "      <td>False</td>\n",
       "      <td>Chester have won only two of their last 10 Lea...</td>\n",
       "      <td>0.369048</td>\n",
       "      <td>0.659574</td>\n",
       "      <td>0.256198</td>\n",
       "      <td>0.325301</td>\n",
       "      <td>0.586957</td>\n",
       "      <td>0.225000</td>\n",
       "      <td>0.400000</td>\n",
       "      <td>0.619048</td>\n",
       "      <td>0.295455</td>\n",
       "    </tr>\n",
       "    <tr>\n",
       "      <td>1463</td>\n",
       "      <td>1463</td>\n",
       "      <td>Victory took Real to within six points of lead...</td>\n",
       "      <td>Owen delighted with Real display  Michael Owen...</td>\n",
       "      <td>English</td>\n",
       "      <td>1463</td>\n",
       "      <td>False</td>\n",
       "      <td>Midfielder Edu reduced the deficit after half-...</td>\n",
       "      <td>0.325000</td>\n",
       "      <td>0.440678</td>\n",
       "      <td>0.257426</td>\n",
       "      <td>0.227848</td>\n",
       "      <td>0.310345</td>\n",
       "      <td>0.180000</td>\n",
       "      <td>0.351145</td>\n",
       "      <td>0.403509</td>\n",
       "      <td>0.310811</td>\n",
       "    </tr>\n",
       "    <tr>\n",
       "      <td>1456</td>\n",
       "      <td>1456</td>\n",
       "      <td>\"We got our goals early and in the minds of so...</td>\n",
       "      <td>Souness delight at Euro progress  Boss Graeme ...</td>\n",
       "      <td>English</td>\n",
       "      <td>1456</td>\n",
       "      <td>False</td>\n",
       "      <td>Souness also paid tribute to Laurent Robert, w...</td>\n",
       "      <td>0.173333</td>\n",
       "      <td>0.361111</td>\n",
       "      <td>0.114035</td>\n",
       "      <td>0.027027</td>\n",
       "      <td>0.057143</td>\n",
       "      <td>0.017699</td>\n",
       "      <td>0.135922</td>\n",
       "      <td>0.291667</td>\n",
       "      <td>0.088608</td>\n",
       "    </tr>\n",
       "    <tr>\n",
       "      <td>1454</td>\n",
       "      <td>1454</td>\n",
       "      <td>\"For a fourth-choice striker at the start I'm ...</td>\n",
       "      <td>Owen determined to stay in Madrid  England for...</td>\n",
       "      <td>English</td>\n",
       "      <td>1454</td>\n",
       "      <td>False</td>\n",
       "      <td>\"England is my country. \"England is my country...</td>\n",
       "      <td>0.173554</td>\n",
       "      <td>0.362069</td>\n",
       "      <td>0.114130</td>\n",
       "      <td>0.058333</td>\n",
       "      <td>0.122807</td>\n",
       "      <td>0.038251</td>\n",
       "      <td>0.173913</td>\n",
       "      <td>0.304348</td>\n",
       "      <td>0.121739</td>\n",
       "    </tr>\n",
       "  </tbody>\n",
       "</table>\n",
       "</div>"
      ],
      "text/plain": [
       "      index                                               Lead  \\\n",
       "3         3  Rod Eddington, BA's chief executive, said the ...   \n",
       "1465   1465  Chester have won only two of their last 10 Lea...   \n",
       "1463   1463  Victory took Real to within six points of lead...   \n",
       "1456   1456  \"We got our goals early and in the minds of so...   \n",
       "1454   1454  \"For a fourth-choice striker at the start I'm ...   \n",
       "\n",
       "                                                   Body Language    ID  \\\n",
       "3     High fuel prices hit BA's profits  British Air...  English     3   \n",
       "1465  Rush future at Chester uncertain  Ian Rush's f...  English  1465   \n",
       "1463  Owen delighted with Real display  Michael Owen...  English  1463   \n",
       "1456  Souness delight at Euro progress  Boss Graeme ...  English  1456   \n",
       "1454  Owen determined to stay in Madrid  England for...  English  1454   \n",
       "\n",
       "      isTrain                                   Summary_Fasttext      R1_f  \\\n",
       "3       False  Reporting its results for the three months to ...  0.262821   \n",
       "1465    False  Chester have won only two of their last 10 Lea...  0.369048   \n",
       "1463    False  Midfielder Edu reduced the deficit after half-...  0.325000   \n",
       "1456    False  Souness also paid tribute to Laurent Robert, w...  0.173333   \n",
       "1454    False  \"England is my country. \"England is my country...  0.173554   \n",
       "\n",
       "          R1_p      R1_r      R2_f      R2_p      R2_r      Rl_f      Rl_p  \\\n",
       "3     0.386792  0.199029  0.083871  0.123810  0.063415  0.231111  0.288889   \n",
       "1465  0.659574  0.256198  0.325301  0.586957  0.225000  0.400000  0.619048   \n",
       "1463  0.440678  0.257426  0.227848  0.310345  0.180000  0.351145  0.403509   \n",
       "1456  0.361111  0.114035  0.027027  0.057143  0.017699  0.135922  0.291667   \n",
       "1454  0.362069  0.114130  0.058333  0.122807  0.038251  0.173913  0.304348   \n",
       "\n",
       "          Rl_r  \n",
       "3     0.192593  \n",
       "1465  0.295455  \n",
       "1463  0.310811  \n",
       "1456  0.088608  \n",
       "1454  0.121739  "
      ]
     },
     "execution_count": 17,
     "metadata": {},
     "output_type": "execute_result"
    }
   ],
   "source": [
    "test_data.head()"
   ]
  },
  {
   "cell_type": "code",
   "execution_count": 19,
   "metadata": {},
   "outputs": [
    {
     "data": {
      "text/plain": [
       "count    6315.000000\n",
       "mean        0.052391\n",
       "std         0.096106\n",
       "min         0.000000\n",
       "25%         0.000000\n",
       "50%         0.018182\n",
       "75%         0.051948\n",
       "max         0.857143\n",
       "Name: R2_f, dtype: float64"
      ]
     },
     "execution_count": 19,
     "metadata": {},
     "output_type": "execute_result"
    }
   ],
   "source": [
    "test_data.R2_f.describe()"
   ]
  },
  {
   "cell_type": "code",
   "execution_count": null,
   "metadata": {},
   "outputs": [],
   "source": []
  }
 ],
 "metadata": {
  "kernelspec": {
   "display_name": "Python 3",
   "language": "python",
   "name": "python3"
  },
  "language_info": {
   "codemirror_mode": {
    "name": "ipython",
    "version": 3
   },
   "file_extension": ".py",
   "mimetype": "text/x-python",
   "name": "python",
   "nbconvert_exporter": "python",
   "pygments_lexer": "ipython3",
   "version": "3.7.4"
  }
 },
 "nbformat": 4,
 "nbformat_minor": 2
}
