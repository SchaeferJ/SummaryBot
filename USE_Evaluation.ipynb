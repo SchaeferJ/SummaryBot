{
 "cells": [
  {
   "cell_type": "code",
   "execution_count": 27,
   "metadata": {},
   "outputs": [],
   "source": [
    "import pandas as pd\n",
    "import tqdm\n",
    "from rouge import Rouge "
   ]
  },
  {
   "cell_type": "code",
   "execution_count": 2,
   "metadata": {},
   "outputs": [],
   "source": [
    "from models.unsupervised import kMeans"
   ]
  },
  {
   "cell_type": "code",
   "execution_count": 3,
   "metadata": {},
   "outputs": [],
   "source": [
    "from UniversalSentenceEncoder import USEEmbedder\n",
    "from Preprocessors import PlaceboPreprocessor"
   ]
  },
  {
   "cell_type": "code",
   "execution_count": 4,
   "metadata": {},
   "outputs": [],
   "source": [
    "test_data = pd.read_pickle(\"./training_data/test_raw.pkl\")"
   ]
  },
  {
   "cell_type": "code",
   "execution_count": 5,
   "metadata": {},
   "outputs": [],
   "source": [
    "test_data = test_data.sort_values(by=['Language'])"
   ]
  },
  {
   "cell_type": "code",
   "execution_count": 6,
   "metadata": {},
   "outputs": [
    {
     "data": {
      "text/html": [
       "<div>\n",
       "<style scoped>\n",
       "    .dataframe tbody tr th:only-of-type {\n",
       "        vertical-align: middle;\n",
       "    }\n",
       "\n",
       "    .dataframe tbody tr th {\n",
       "        vertical-align: top;\n",
       "    }\n",
       "\n",
       "    .dataframe thead th {\n",
       "        text-align: right;\n",
       "    }\n",
       "</style>\n",
       "<table border=\"1\" class=\"dataframe\">\n",
       "  <thead>\n",
       "    <tr style=\"text-align: right;\">\n",
       "      <th></th>\n",
       "      <th>index</th>\n",
       "      <th>Lead</th>\n",
       "      <th>Body</th>\n",
       "      <th>Language</th>\n",
       "      <th>ID</th>\n",
       "      <th>isTrain</th>\n",
       "    </tr>\n",
       "  </thead>\n",
       "  <tbody>\n",
       "    <tr>\n",
       "      <td>3</td>\n",
       "      <td>3</td>\n",
       "      <td>Rod Eddington, BA's chief executive, said the ...</td>\n",
       "      <td>High fuel prices hit BA's profits  British Air...</td>\n",
       "      <td>English</td>\n",
       "      <td>3</td>\n",
       "      <td>False</td>\n",
       "    </tr>\n",
       "    <tr>\n",
       "      <td>1465</td>\n",
       "      <td>1465</td>\n",
       "      <td>Chester have won only two of their last 10 Lea...</td>\n",
       "      <td>Rush future at Chester uncertain  Ian Rush's f...</td>\n",
       "      <td>English</td>\n",
       "      <td>1465</td>\n",
       "      <td>False</td>\n",
       "    </tr>\n",
       "    <tr>\n",
       "      <td>1463</td>\n",
       "      <td>1463</td>\n",
       "      <td>Victory took Real to within six points of lead...</td>\n",
       "      <td>Owen delighted with Real display  Michael Owen...</td>\n",
       "      <td>English</td>\n",
       "      <td>1463</td>\n",
       "      <td>False</td>\n",
       "    </tr>\n",
       "    <tr>\n",
       "      <td>1456</td>\n",
       "      <td>1456</td>\n",
       "      <td>\"We got our goals early and in the minds of so...</td>\n",
       "      <td>Souness delight at Euro progress  Boss Graeme ...</td>\n",
       "      <td>English</td>\n",
       "      <td>1456</td>\n",
       "      <td>False</td>\n",
       "    </tr>\n",
       "    <tr>\n",
       "      <td>1454</td>\n",
       "      <td>1454</td>\n",
       "      <td>\"For a fourth-choice striker at the start I'm ...</td>\n",
       "      <td>Owen determined to stay in Madrid  England for...</td>\n",
       "      <td>English</td>\n",
       "      <td>1454</td>\n",
       "      <td>False</td>\n",
       "    </tr>\n",
       "  </tbody>\n",
       "</table>\n",
       "</div>"
      ],
      "text/plain": [
       "      index                                               Lead  \\\n",
       "3         3  Rod Eddington, BA's chief executive, said the ...   \n",
       "1465   1465  Chester have won only two of their last 10 Lea...   \n",
       "1463   1463  Victory took Real to within six points of lead...   \n",
       "1456   1456  \"We got our goals early and in the minds of so...   \n",
       "1454   1454  \"For a fourth-choice striker at the start I'm ...   \n",
       "\n",
       "                                                   Body Language    ID  \\\n",
       "3     High fuel prices hit BA's profits  British Air...  English     3   \n",
       "1465  Rush future at Chester uncertain  Ian Rush's f...  English  1465   \n",
       "1463  Owen delighted with Real display  Michael Owen...  English  1463   \n",
       "1456  Souness delight at Euro progress  Boss Graeme ...  English  1456   \n",
       "1454  Owen determined to stay in Madrid  England for...  English  1454   \n",
       "\n",
       "      isTrain  \n",
       "3       False  \n",
       "1465    False  \n",
       "1463    False  \n",
       "1456    False  \n",
       "1454    False  "
      ]
     },
     "execution_count": 6,
     "metadata": {},
     "output_type": "execute_result"
    }
   ],
   "source": [
    "test_data.head()"
   ]
  },
  {
   "cell_type": "code",
   "execution_count": 7,
   "metadata": {},
   "outputs": [],
   "source": [
    "summarizer = kMeans(USEEmbedder, PlaceboPreprocessor)"
   ]
  },
  {
   "cell_type": "code",
   "execution_count": 50,
   "metadata": {},
   "outputs": [],
   "source": [
    "summaries = []"
   ]
  },
  {
   "cell_type": "code",
   "execution_count": 51,
   "metadata": {},
   "outputs": [],
   "source": [
    "flatdict = {}\n",
    "rouge = Rouge()"
   ]
  },
  {
   "cell_type": "code",
   "execution_count": 52,
   "metadata": {
    "scrolled": false
   },
   "outputs": [
    {
     "name": "stderr",
     "output_type": "stream",
     "text": [
      "/home/swrdata/anaconda3/lib/python3.7/site-packages/ipykernel_launcher.py:1: TqdmDeprecationWarning: This function will be removed in tqdm==5.0.0\n",
      "Please use `tqdm.notebook.tqdm` instead of `tqdm.tqdm_notebook`\n",
      "  \"\"\"Entry point for launching an IPython kernel.\n"
     ]
    },
    {
     "data": {
      "application/vnd.jupyter.widget-view+json": {
       "model_id": "3b3b18e6d8474f69b173c67efd855815",
       "version_major": 2,
       "version_minor": 0
      },
      "text/plain": [
       "HBox(children=(FloatProgress(value=0.0, max=6315.0), HTML(value='')))"
      ]
     },
     "metadata": {},
     "output_type": "display_data"
    },
    {
     "name": "stderr",
     "output_type": "stream",
     "text": [
      "/home/swrdata/anaconda3/lib/python3.7/site-packages/sklearn/cluster/_k_means.py:88: RuntimeWarning: divide by zero encountered in log\n",
      "  n_local_trials = 2 + int(np.log(n_clusters))\n",
      "/home/swrdata/anaconda3/lib/python3.7/site-packages/sklearn/cluster/_k_means.py:88: RuntimeWarning: divide by zero encountered in log\n",
      "  n_local_trials = 2 + int(np.log(n_clusters))\n",
      "/home/swrdata/anaconda3/lib/python3.7/site-packages/sklearn/cluster/_k_means.py:88: RuntimeWarning: divide by zero encountered in log\n",
      "  n_local_trials = 2 + int(np.log(n_clusters))\n",
      "/home/swrdata/anaconda3/lib/python3.7/site-packages/sklearn/cluster/_k_means.py:88: RuntimeWarning: divide by zero encountered in log\n",
      "  n_local_trials = 2 + int(np.log(n_clusters))\n",
      "/home/swrdata/anaconda3/lib/python3.7/site-packages/sklearn/cluster/_k_means.py:88: RuntimeWarning: divide by zero encountered in log\n",
      "  n_local_trials = 2 + int(np.log(n_clusters))\n",
      "/home/swrdata/anaconda3/lib/python3.7/site-packages/sklearn/cluster/_k_means.py:88: RuntimeWarning: divide by zero encountered in log\n",
      "  n_local_trials = 2 + int(np.log(n_clusters))\n",
      "/home/swrdata/anaconda3/lib/python3.7/site-packages/sklearn/cluster/_k_means.py:88: RuntimeWarning: divide by zero encountered in log\n",
      "  n_local_trials = 2 + int(np.log(n_clusters))\n",
      "/home/swrdata/anaconda3/lib/python3.7/site-packages/sklearn/cluster/_k_means.py:88: RuntimeWarning: divide by zero encountered in log\n",
      "  n_local_trials = 2 + int(np.log(n_clusters))\n",
      "/home/swrdata/anaconda3/lib/python3.7/site-packages/sklearn/cluster/_k_means.py:88: RuntimeWarning: divide by zero encountered in log\n",
      "  n_local_trials = 2 + int(np.log(n_clusters))\n",
      "/home/swrdata/anaconda3/lib/python3.7/site-packages/sklearn/cluster/_k_means.py:88: RuntimeWarning: divide by zero encountered in log\n",
      "  n_local_trials = 2 + int(np.log(n_clusters))\n",
      "/home/swrdata/anaconda3/lib/python3.7/site-packages/sklearn/cluster/_k_means.py:88: RuntimeWarning: divide by zero encountered in log\n",
      "  n_local_trials = 2 + int(np.log(n_clusters))\n",
      "/home/swrdata/anaconda3/lib/python3.7/site-packages/sklearn/cluster/_k_means.py:88: RuntimeWarning: divide by zero encountered in log\n",
      "  n_local_trials = 2 + int(np.log(n_clusters))\n",
      "/home/swrdata/anaconda3/lib/python3.7/site-packages/sklearn/cluster/_k_means.py:88: RuntimeWarning: divide by zero encountered in log\n",
      "  n_local_trials = 2 + int(np.log(n_clusters))\n"
     ]
    },
    {
     "name": "stdout",
     "output_type": "stream",
     "text": [
      "\n"
     ]
    }
   ],
   "source": [
    "for i, row in tqdm.tqdm_notebook(test_data.iterrows(), total=len(test_data.index)):\n",
    "    try:\n",
    "        smry = summarizer.summarize(row.Body, row.Language, 0.3, sif=True)\n",
    "    except:\n",
    "        smry = \" \"\n",
    "    summaries.append(smry)\n",
    "    flatlist = []\n",
    "    scores = rouge.get_scores(smry, row.Lead)[0]\n",
    "    for metric in scores:\n",
    "        for key in scores[metric]:\n",
    "            flatlist.append(scores[metric][key])\n",
    "    flatdict[i] = flatlist"
   ]
  },
  {
   "cell_type": "code",
   "execution_count": 58,
   "metadata": {},
   "outputs": [],
   "source": [
    "test_data[\"Summary_USE\"] = summaries"
   ]
  },
  {
   "cell_type": "code",
   "execution_count": 59,
   "metadata": {},
   "outputs": [],
   "source": [
    "r_scores = pd.DataFrame.from_dict(flatdict, orient=\"index\",\n",
    "                       columns=['R1_f', 'R1_p', 'R1_r', 'R2_f', 'R2_p', 'R2_r','Rl_f', 'Rl_p', 'Rl_r'])"
   ]
  },
  {
   "cell_type": "code",
   "execution_count": 61,
   "metadata": {},
   "outputs": [],
   "source": [
    "test_data = pd.merge(test_data, r_scores, left_index=True, right_index=True)"
   ]
  },
  {
   "cell_type": "code",
   "execution_count": 62,
   "metadata": {},
   "outputs": [
    {
     "data": {
      "text/html": [
       "<div>\n",
       "<style scoped>\n",
       "    .dataframe tbody tr th:only-of-type {\n",
       "        vertical-align: middle;\n",
       "    }\n",
       "\n",
       "    .dataframe tbody tr th {\n",
       "        vertical-align: top;\n",
       "    }\n",
       "\n",
       "    .dataframe thead th {\n",
       "        text-align: right;\n",
       "    }\n",
       "</style>\n",
       "<table border=\"1\" class=\"dataframe\">\n",
       "  <thead>\n",
       "    <tr style=\"text-align: right;\">\n",
       "      <th></th>\n",
       "      <th>index</th>\n",
       "      <th>Lead</th>\n",
       "      <th>Body</th>\n",
       "      <th>Language</th>\n",
       "      <th>ID</th>\n",
       "      <th>isTrain</th>\n",
       "      <th>Summary_USE</th>\n",
       "      <th>R1_f</th>\n",
       "      <th>R1_p</th>\n",
       "      <th>R1_r</th>\n",
       "      <th>R2_f</th>\n",
       "      <th>R2_p</th>\n",
       "      <th>R2_r</th>\n",
       "      <th>Rl_f</th>\n",
       "      <th>Rl_p</th>\n",
       "      <th>Rl_r</th>\n",
       "    </tr>\n",
       "  </thead>\n",
       "  <tbody>\n",
       "    <tr>\n",
       "      <td>3</td>\n",
       "      <td>3</td>\n",
       "      <td>Rod Eddington, BA's chief executive, said the ...</td>\n",
       "      <td>High fuel prices hit BA's profits  British Air...</td>\n",
       "      <td>English</td>\n",
       "      <td>3</td>\n",
       "      <td>False</td>\n",
       "      <td>High fuel prices hit BA's profits  British Air...</td>\n",
       "      <td>0.392962</td>\n",
       "      <td>0.496296</td>\n",
       "      <td>0.325243</td>\n",
       "      <td>0.188791</td>\n",
       "      <td>0.238806</td>\n",
       "      <td>0.156098</td>\n",
       "      <td>0.366667</td>\n",
       "      <td>0.419048</td>\n",
       "      <td>0.325926</td>\n",
       "    </tr>\n",
       "    <tr>\n",
       "      <td>1465</td>\n",
       "      <td>1465</td>\n",
       "      <td>Chester have won only two of their last 10 Lea...</td>\n",
       "      <td>Rush future at Chester uncertain  Ian Rush's f...</td>\n",
       "      <td>English</td>\n",
       "      <td>1465</td>\n",
       "      <td>False</td>\n",
       "      <td>Vaughan said: \"I offered a financial settlemen...</td>\n",
       "      <td>0.494845</td>\n",
       "      <td>0.657534</td>\n",
       "      <td>0.396694</td>\n",
       "      <td>0.406250</td>\n",
       "      <td>0.541667</td>\n",
       "      <td>0.325000</td>\n",
       "      <td>0.523490</td>\n",
       "      <td>0.639344</td>\n",
       "      <td>0.443182</td>\n",
       "    </tr>\n",
       "    <tr>\n",
       "      <td>1463</td>\n",
       "      <td>1463</td>\n",
       "      <td>Victory took Real to within six points of lead...</td>\n",
       "      <td>Owen delighted with Real display  Michael Owen...</td>\n",
       "      <td>English</td>\n",
       "      <td>1463</td>\n",
       "      <td>False</td>\n",
       "      <td>\"I felt good all though the game and it is obv...</td>\n",
       "      <td>0.472727</td>\n",
       "      <td>0.609375</td>\n",
       "      <td>0.386139</td>\n",
       "      <td>0.368098</td>\n",
       "      <td>0.476190</td>\n",
       "      <td>0.300000</td>\n",
       "      <td>0.511278</td>\n",
       "      <td>0.576271</td>\n",
       "      <td>0.459459</td>\n",
       "    </tr>\n",
       "    <tr>\n",
       "      <td>1456</td>\n",
       "      <td>1456</td>\n",
       "      <td>\"We got our goals early and in the minds of so...</td>\n",
       "      <td>Souness delight at Euro progress  Boss Graeme ...</td>\n",
       "      <td>English</td>\n",
       "      <td>1456</td>\n",
       "      <td>False</td>\n",
       "      <td>An early own goal followed by an Alan Shearer ...</td>\n",
       "      <td>0.473988</td>\n",
       "      <td>0.694915</td>\n",
       "      <td>0.359649</td>\n",
       "      <td>0.385965</td>\n",
       "      <td>0.568966</td>\n",
       "      <td>0.292035</td>\n",
       "      <td>0.468750</td>\n",
       "      <td>0.612245</td>\n",
       "      <td>0.379747</td>\n",
       "    </tr>\n",
       "    <tr>\n",
       "      <td>1454</td>\n",
       "      <td>1454</td>\n",
       "      <td>\"For a fourth-choice striker at the start I'm ...</td>\n",
       "      <td>Owen determined to stay in Madrid  England for...</td>\n",
       "      <td>English</td>\n",
       "      <td>1454</td>\n",
       "      <td>False</td>\n",
       "      <td>Owen determined to stay in Madrid  England for...</td>\n",
       "      <td>0.527397</td>\n",
       "      <td>0.712963</td>\n",
       "      <td>0.418478</td>\n",
       "      <td>0.427586</td>\n",
       "      <td>0.579439</td>\n",
       "      <td>0.338798</td>\n",
       "      <td>0.543590</td>\n",
       "      <td>0.662500</td>\n",
       "      <td>0.460870</td>\n",
       "    </tr>\n",
       "  </tbody>\n",
       "</table>\n",
       "</div>"
      ],
      "text/plain": [
       "      index                                               Lead  \\\n",
       "3         3  Rod Eddington, BA's chief executive, said the ...   \n",
       "1465   1465  Chester have won only two of their last 10 Lea...   \n",
       "1463   1463  Victory took Real to within six points of lead...   \n",
       "1456   1456  \"We got our goals early and in the minds of so...   \n",
       "1454   1454  \"For a fourth-choice striker at the start I'm ...   \n",
       "\n",
       "                                                   Body Language    ID  \\\n",
       "3     High fuel prices hit BA's profits  British Air...  English     3   \n",
       "1465  Rush future at Chester uncertain  Ian Rush's f...  English  1465   \n",
       "1463  Owen delighted with Real display  Michael Owen...  English  1463   \n",
       "1456  Souness delight at Euro progress  Boss Graeme ...  English  1456   \n",
       "1454  Owen determined to stay in Madrid  England for...  English  1454   \n",
       "\n",
       "      isTrain                                        Summary_USE      R1_f  \\\n",
       "3       False  High fuel prices hit BA's profits  British Air...  0.392962   \n",
       "1465    False  Vaughan said: \"I offered a financial settlemen...  0.494845   \n",
       "1463    False  \"I felt good all though the game and it is obv...  0.472727   \n",
       "1456    False  An early own goal followed by an Alan Shearer ...  0.473988   \n",
       "1454    False  Owen determined to stay in Madrid  England for...  0.527397   \n",
       "\n",
       "          R1_p      R1_r      R2_f      R2_p      R2_r      Rl_f      Rl_p  \\\n",
       "3     0.496296  0.325243  0.188791  0.238806  0.156098  0.366667  0.419048   \n",
       "1465  0.657534  0.396694  0.406250  0.541667  0.325000  0.523490  0.639344   \n",
       "1463  0.609375  0.386139  0.368098  0.476190  0.300000  0.511278  0.576271   \n",
       "1456  0.694915  0.359649  0.385965  0.568966  0.292035  0.468750  0.612245   \n",
       "1454  0.712963  0.418478  0.427586  0.579439  0.338798  0.543590  0.662500   \n",
       "\n",
       "          Rl_r  \n",
       "3     0.325926  \n",
       "1465  0.443182  \n",
       "1463  0.459459  \n",
       "1456  0.379747  \n",
       "1454  0.460870  "
      ]
     },
     "execution_count": 62,
     "metadata": {},
     "output_type": "execute_result"
    }
   ],
   "source": [
    "test_data.head()"
   ]
  },
  {
   "cell_type": "code",
   "execution_count": 64,
   "metadata": {},
   "outputs": [
    {
     "data": {
      "text/plain": [
       "count    6315.000000\n",
       "mean        0.074994\n",
       "std         0.124474\n",
       "min         0.000000\n",
       "25%         0.000000\n",
       "50%         0.028070\n",
       "75%         0.074227\n",
       "max         0.809524\n",
       "Name: R2_f, dtype: float64"
      ]
     },
     "execution_count": 64,
     "metadata": {},
     "output_type": "execute_result"
    }
   ],
   "source": [
    "test_data.R2_f.describe()"
   ]
  },
  {
   "cell_type": "code",
   "execution_count": null,
   "metadata": {},
   "outputs": [],
   "source": []
  }
 ],
 "metadata": {
  "kernelspec": {
   "display_name": "Python 3",
   "language": "python",
   "name": "python3"
  },
  "language_info": {
   "codemirror_mode": {
    "name": "ipython",
    "version": 3
   },
   "file_extension": ".py",
   "mimetype": "text/x-python",
   "name": "python",
   "nbconvert_exporter": "python",
   "pygments_lexer": "ipython3",
   "version": "3.7.4"
  }
 },
 "nbformat": 4,
 "nbformat_minor": 2
}
