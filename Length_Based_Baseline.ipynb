{
 "cells": [
  {
   "cell_type": "markdown",
   "metadata": {},
   "source": [
    "# Experiment 0: Baselines"
   ]
  },
  {
   "cell_type": "markdown",
   "metadata": {},
   "source": [
    "In this experiment, summaries are generated based on simple heuristics."
   ]
  },
  {
   "cell_type": "code",
   "execution_count": 1,
   "metadata": {},
   "outputs": [],
   "source": [
    "import pandas as pd\n",
    "import nltk\n",
    "import tqdm\n",
    "from rouge import Rouge\n",
    "from nltk.tokenize import sent_tokenize"
   ]
  },
  {
   "cell_type": "code",
   "execution_count": 2,
   "metadata": {},
   "outputs": [],
   "source": [
    "from Evaluator import USEevaluator"
   ]
  },
  {
   "cell_type": "code",
   "execution_count": 3,
   "metadata": {},
   "outputs": [
    {
     "name": "stderr",
     "output_type": "stream",
     "text": [
      "[nltk_data] Downloading package punkt to /home/swrdata/nltk_data...\n",
      "[nltk_data]   Package punkt is already up-to-date!\n"
     ]
    },
    {
     "data": {
      "text/plain": [
       "True"
      ]
     },
     "execution_count": 3,
     "metadata": {},
     "output_type": "execute_result"
    }
   ],
   "source": [
    "nltk.download('punkt')"
   ]
  },
  {
   "cell_type": "code",
   "execution_count": 4,
   "metadata": {},
   "outputs": [],
   "source": [
    "test_data = pd.read_pickle(\"./training_data/test_raw.pkl\")"
   ]
  },
  {
   "cell_type": "code",
   "execution_count": 5,
   "metadata": {},
   "outputs": [],
   "source": [
    "test_data = test_data.sort_values(by=['Language'])"
   ]
  },
  {
   "cell_type": "code",
   "execution_count": 6,
   "metadata": {},
   "outputs": [
    {
     "data": {
      "text/html": [
       "<div>\n",
       "<style scoped>\n",
       "    .dataframe tbody tr th:only-of-type {\n",
       "        vertical-align: middle;\n",
       "    }\n",
       "\n",
       "    .dataframe tbody tr th {\n",
       "        vertical-align: top;\n",
       "    }\n",
       "\n",
       "    .dataframe thead th {\n",
       "        text-align: right;\n",
       "    }\n",
       "</style>\n",
       "<table border=\"1\" class=\"dataframe\">\n",
       "  <thead>\n",
       "    <tr style=\"text-align: right;\">\n",
       "      <th></th>\n",
       "      <th>index</th>\n",
       "      <th>Lead</th>\n",
       "      <th>Body</th>\n",
       "      <th>Language</th>\n",
       "      <th>ID</th>\n",
       "      <th>isTrain</th>\n",
       "      <th>Summary_CRSum</th>\n",
       "      <th>Summary_Fasttext_SIF</th>\n",
       "      <th>Summary_Loc_Baseline</th>\n",
       "      <th>Summary_Fasttext_Mean</th>\n",
       "    </tr>\n",
       "  </thead>\n",
       "  <tbody>\n",
       "    <tr>\n",
       "      <td>2</td>\n",
       "      <td>2</td>\n",
       "      <td>Yukos' owner Menatep Group says it will ask Ro...</td>\n",
       "      <td>Yukos unit buyer faces loan claim The owners o...</td>\n",
       "      <td>English</td>\n",
       "      <td>2</td>\n",
       "      <td>False</td>\n",
       "      <td>Yukos unit buyer faces loan claim The owners o...</td>\n",
       "      <td>Rosneft officials were unavailable for comment...</td>\n",
       "      <td>Yukos unit buyer faces loan claim The owners o...</td>\n",
       "      <td>\"The pledged assets are with Rosneft, so it wi...</td>\n",
       "    </tr>\n",
       "    <tr>\n",
       "      <td>15</td>\n",
       "      <td>15</td>\n",
       "      <td>India's rupee has hit a five-year high after S...</td>\n",
       "      <td>India's rupee hits five-year high India's rupe...</td>\n",
       "      <td>English</td>\n",
       "      <td>15</td>\n",
       "      <td>False</td>\n",
       "      <td>India's rupee hits five-year high India's rupe...</td>\n",
       "      <td>\"The upgrade is positive and basically people ...</td>\n",
       "      <td>India's rupee hits five-year high India's rupe...</td>\n",
       "      <td>\"Money has moved out from India in the first t...</td>\n",
       "    </tr>\n",
       "    <tr>\n",
       "      <td>23</td>\n",
       "      <td>23</td>\n",
       "      <td>The affected vehicles in the product recall ar...</td>\n",
       "      <td>Safety alert as GM recalls cars The world's bi...</td>\n",
       "      <td>English</td>\n",
       "      <td>23</td>\n",
       "      <td>False</td>\n",
       "      <td>Safety alert as GM recalls cars The world's bi...</td>\n",
       "      <td>This is because of possible malfunctions with ...</td>\n",
       "      <td>Safety alert as GM recalls cars The world's bi...</td>\n",
       "      <td>Safety alert as GM recalls cars The world's bi...</td>\n",
       "    </tr>\n",
       "    <tr>\n",
       "      <td>27</td>\n",
       "      <td>27</td>\n",
       "      <td>US growth would reach 4.4% in 2004, but fall t...</td>\n",
       "      <td>Soaring oil 'hits world economy' The soaring c...</td>\n",
       "      <td>English</td>\n",
       "      <td>27</td>\n",
       "      <td>False</td>\n",
       "      <td>Soaring oil 'hits world economy' The soaring c...</td>\n",
       "      <td>The price of crude is about 50% higher than it...</td>\n",
       "      <td>Soaring oil 'hits world economy' The soaring c...</td>\n",
       "      <td>In its latest bi-annual report, the OECD cut i...</td>\n",
       "    </tr>\n",
       "    <tr>\n",
       "      <td>28</td>\n",
       "      <td>28</td>\n",
       "      <td>Irish shares have risen to a record high, with...</td>\n",
       "      <td>Irish markets reach all-time high Irish shares...</td>\n",
       "      <td>English</td>\n",
       "      <td>28</td>\n",
       "      <td>False</td>\n",
       "      <td>Irish markets reach all-time high Irish shares...</td>\n",
       "      <td>Telecoms firm Eircom, which recently revealed ...</td>\n",
       "      <td>Irish markets reach all-time high Irish shares...</td>\n",
       "      <td>The ISEQ index of leading shares closed up 23 ...</td>\n",
       "    </tr>\n",
       "  </tbody>\n",
       "</table>\n",
       "</div>"
      ],
      "text/plain": [
       "    index                                               Lead  \\\n",
       "2       2  Yukos' owner Menatep Group says it will ask Ro...   \n",
       "15     15  India's rupee has hit a five-year high after S...   \n",
       "23     23  The affected vehicles in the product recall ar...   \n",
       "27     27  US growth would reach 4.4% in 2004, but fall t...   \n",
       "28     28  Irish shares have risen to a record high, with...   \n",
       "\n",
       "                                                 Body Language  ID  isTrain  \\\n",
       "2   Yukos unit buyer faces loan claim The owners o...  English   2    False   \n",
       "15  India's rupee hits five-year high India's rupe...  English  15    False   \n",
       "23  Safety alert as GM recalls cars The world's bi...  English  23    False   \n",
       "27  Soaring oil 'hits world economy' The soaring c...  English  27    False   \n",
       "28  Irish markets reach all-time high Irish shares...  English  28    False   \n",
       "\n",
       "                                        Summary_CRSum  \\\n",
       "2   Yukos unit buyer faces loan claim The owners o...   \n",
       "15  India's rupee hits five-year high India's rupe...   \n",
       "23  Safety alert as GM recalls cars The world's bi...   \n",
       "27  Soaring oil 'hits world economy' The soaring c...   \n",
       "28  Irish markets reach all-time high Irish shares...   \n",
       "\n",
       "                                 Summary_Fasttext_SIF  \\\n",
       "2   Rosneft officials were unavailable for comment...   \n",
       "15  \"The upgrade is positive and basically people ...   \n",
       "23  This is because of possible malfunctions with ...   \n",
       "27  The price of crude is about 50% higher than it...   \n",
       "28  Telecoms firm Eircom, which recently revealed ...   \n",
       "\n",
       "                                 Summary_Loc_Baseline  \\\n",
       "2   Yukos unit buyer faces loan claim The owners o...   \n",
       "15  India's rupee hits five-year high India's rupe...   \n",
       "23  Safety alert as GM recalls cars The world's bi...   \n",
       "27  Soaring oil 'hits world economy' The soaring c...   \n",
       "28  Irish markets reach all-time high Irish shares...   \n",
       "\n",
       "                                Summary_Fasttext_Mean  \n",
       "2   \"The pledged assets are with Rosneft, so it wi...  \n",
       "15  \"Money has moved out from India in the first t...  \n",
       "23  Safety alert as GM recalls cars The world's bi...  \n",
       "27  In its latest bi-annual report, the OECD cut i...  \n",
       "28  The ISEQ index of leading shares closed up 23 ...  "
      ]
     },
     "execution_count": 6,
     "metadata": {},
     "output_type": "execute_result"
    }
   ],
   "source": [
    "test_data.head()"
   ]
  },
  {
   "cell_type": "code",
   "execution_count": 7,
   "metadata": {},
   "outputs": [],
   "source": [
    "comparator = USEevaluator(metric=\"cosine\")"
   ]
  },
  {
   "cell_type": "code",
   "execution_count": 8,
   "metadata": {},
   "outputs": [],
   "source": [
    "summaries = []\n",
    "cosims = []"
   ]
  },
  {
   "cell_type": "code",
   "execution_count": 9,
   "metadata": {},
   "outputs": [],
   "source": [
    "flatdict = {}\n",
    "rouge = Rouge()"
   ]
  },
  {
   "cell_type": "code",
   "execution_count": 10,
   "metadata": {
    "scrolled": false
   },
   "outputs": [
    {
     "name": "stderr",
     "output_type": "stream",
     "text": [
      "/home/swrdata/anaconda3/lib/python3.7/site-packages/ipykernel_launcher.py:1: TqdmDeprecationWarning: This function will be removed in tqdm==5.0.0\n",
      "Please use `tqdm.notebook.tqdm` instead of `tqdm.tqdm_notebook`\n",
      "  \"\"\"Entry point for launching an IPython kernel.\n"
     ]
    },
    {
     "data": {
      "application/vnd.jupyter.widget-view+json": {
       "model_id": "77ee27195ff44a5385c9ce543f4ac37e",
       "version_major": 2,
       "version_minor": 0
      },
      "text/plain": [
       "HBox(children=(FloatProgress(value=0.0, max=8430.0), HTML(value='')))"
      ]
     },
     "metadata": {},
     "output_type": "display_data"
    },
    {
     "name": "stdout",
     "output_type": "stream",
     "text": [
      "\n"
     ]
    }
   ],
   "source": [
    "for i, row in tqdm.tqdm_notebook(test_data.iterrows(), total=len(test_data.index)):\n",
    "    try:\n",
    "        sents = sent_tokenize(row.Body, row.Language.lower())\n",
    "        sumlen = round(0.2*len(sents))\n",
    "        senlens = [len(s.split()) for s in sents]\n",
    "        res = sorted(range(len(senlens)), key = lambda sub: senlens[sub])[-3:] \n",
    "        res.sort()\n",
    "        smry = \" \".join([sents[i] for i in res])\n",
    "    except:\n",
    "        smry = \" \"\n",
    "    if smry==\"\":\n",
    "        smry = \" \"\n",
    "    summaries.append(smry)\n",
    "    flatlist = []\n",
    "    scores = rouge.get_scores(smry, row.Lead)[0]\n",
    "    for metric in scores:\n",
    "        for key in scores[metric]:\n",
    "            flatlist.append(scores[metric][key])\n",
    "    flatdict[i] = flatlist\n",
    "    cosims.append(comparator.compare(smry, row.Lead))"
   ]
  },
  {
   "cell_type": "code",
   "execution_count": 11,
   "metadata": {},
   "outputs": [],
   "source": [
    "test_data[\"Summary_Loc_Baseline\"] = summaries"
   ]
  },
  {
   "cell_type": "code",
   "execution_count": 12,
   "metadata": {},
   "outputs": [],
   "source": [
    "r_scores = pd.DataFrame.from_dict(flatdict, orient=\"index\",\n",
    "                       columns=['R1_f', 'R1_p', 'R1_r', 'R2_f', 'R2_p', 'R2_r','Rl_f', 'Rl_p', 'Rl_r'])"
   ]
  },
  {
   "cell_type": "code",
   "execution_count": 13,
   "metadata": {},
   "outputs": [],
   "source": [
    "test_data = pd.merge(test_data, r_scores, left_index=True, right_index=True)"
   ]
  },
  {
   "cell_type": "code",
   "execution_count": 14,
   "metadata": {},
   "outputs": [],
   "source": [
    "test_data[\"cosine_sim\"] = cosims"
   ]
  },
  {
   "cell_type": "code",
   "execution_count": 15,
   "metadata": {},
   "outputs": [
    {
     "data": {
      "text/html": [
       "<div>\n",
       "<style scoped>\n",
       "    .dataframe tbody tr th:only-of-type {\n",
       "        vertical-align: middle;\n",
       "    }\n",
       "\n",
       "    .dataframe tbody tr th {\n",
       "        vertical-align: top;\n",
       "    }\n",
       "\n",
       "    .dataframe thead th {\n",
       "        text-align: right;\n",
       "    }\n",
       "</style>\n",
       "<table border=\"1\" class=\"dataframe\">\n",
       "  <thead>\n",
       "    <tr style=\"text-align: right;\">\n",
       "      <th></th>\n",
       "      <th>index</th>\n",
       "      <th>Lead</th>\n",
       "      <th>Body</th>\n",
       "      <th>Language</th>\n",
       "      <th>ID</th>\n",
       "      <th>isTrain</th>\n",
       "      <th>Summary_CRSum</th>\n",
       "      <th>Summary_Fasttext_SIF</th>\n",
       "      <th>Summary_Loc_Baseline</th>\n",
       "      <th>Summary_Fasttext_Mean</th>\n",
       "      <th>R1_f</th>\n",
       "      <th>R1_p</th>\n",
       "      <th>R1_r</th>\n",
       "      <th>R2_f</th>\n",
       "      <th>R2_p</th>\n",
       "      <th>R2_r</th>\n",
       "      <th>Rl_f</th>\n",
       "      <th>Rl_p</th>\n",
       "      <th>Rl_r</th>\n",
       "      <th>cosine_sim</th>\n",
       "    </tr>\n",
       "  </thead>\n",
       "  <tbody>\n",
       "    <tr>\n",
       "      <td>2</td>\n",
       "      <td>2</td>\n",
       "      <td>Yukos' owner Menatep Group says it will ask Ro...</td>\n",
       "      <td>Yukos unit buyer faces loan claim The owners o...</td>\n",
       "      <td>English</td>\n",
       "      <td>2</td>\n",
       "      <td>False</td>\n",
       "      <td>Yukos unit buyer faces loan claim The owners o...</td>\n",
       "      <td>Rosneft officials were unavailable for comment...</td>\n",
       "      <td>Yukos unit buyer faces loan claim The owners o...</td>\n",
       "      <td>\"The pledged assets are with Rosneft, so it wi...</td>\n",
       "      <td>0.458150</td>\n",
       "      <td>0.520000</td>\n",
       "      <td>0.409449</td>\n",
       "      <td>0.320000</td>\n",
       "      <td>0.363636</td>\n",
       "      <td>0.285714</td>\n",
       "      <td>0.481928</td>\n",
       "      <td>0.512821</td>\n",
       "      <td>0.454545</td>\n",
       "      <td>0.856127</td>\n",
       "    </tr>\n",
       "    <tr>\n",
       "      <td>15</td>\n",
       "      <td>15</td>\n",
       "      <td>India's rupee has hit a five-year high after S...</td>\n",
       "      <td>India's rupee hits five-year high India's rupe...</td>\n",
       "      <td>English</td>\n",
       "      <td>15</td>\n",
       "      <td>False</td>\n",
       "      <td>India's rupee hits five-year high India's rupe...</td>\n",
       "      <td>\"The upgrade is positive and basically people ...</td>\n",
       "      <td>India's rupee hits five-year high India's rupe...</td>\n",
       "      <td>\"Money has moved out from India in the first t...</td>\n",
       "      <td>0.382353</td>\n",
       "      <td>0.329114</td>\n",
       "      <td>0.456140</td>\n",
       "      <td>0.268657</td>\n",
       "      <td>0.230769</td>\n",
       "      <td>0.321429</td>\n",
       "      <td>0.414414</td>\n",
       "      <td>0.348485</td>\n",
       "      <td>0.511111</td>\n",
       "      <td>0.783486</td>\n",
       "    </tr>\n",
       "    <tr>\n",
       "      <td>23</td>\n",
       "      <td>23</td>\n",
       "      <td>The affected vehicles in the product recall ar...</td>\n",
       "      <td>Safety alert as GM recalls cars The world's bi...</td>\n",
       "      <td>English</td>\n",
       "      <td>23</td>\n",
       "      <td>False</td>\n",
       "      <td>Safety alert as GM recalls cars The world's bi...</td>\n",
       "      <td>This is because of possible malfunctions with ...</td>\n",
       "      <td>Safety alert as GM recalls cars The world's bi...</td>\n",
       "      <td>Safety alert as GM recalls cars The world's bi...</td>\n",
       "      <td>0.744589</td>\n",
       "      <td>0.955556</td>\n",
       "      <td>0.609929</td>\n",
       "      <td>0.707424</td>\n",
       "      <td>0.910112</td>\n",
       "      <td>0.578571</td>\n",
       "      <td>0.788889</td>\n",
       "      <td>0.946667</td>\n",
       "      <td>0.676190</td>\n",
       "      <td>0.799912</td>\n",
       "    </tr>\n",
       "    <tr>\n",
       "      <td>27</td>\n",
       "      <td>27</td>\n",
       "      <td>US growth would reach 4.4% in 2004, but fall t...</td>\n",
       "      <td>Soaring oil 'hits world economy' The soaring c...</td>\n",
       "      <td>English</td>\n",
       "      <td>27</td>\n",
       "      <td>False</td>\n",
       "      <td>Soaring oil 'hits world economy' The soaring c...</td>\n",
       "      <td>The price of crude is about 50% higher than it...</td>\n",
       "      <td>But the outlook was worst for the 12-member eu...</td>\n",
       "      <td>In its latest bi-annual report, the OECD cut i...</td>\n",
       "      <td>0.543624</td>\n",
       "      <td>0.801980</td>\n",
       "      <td>0.411168</td>\n",
       "      <td>0.472973</td>\n",
       "      <td>0.700000</td>\n",
       "      <td>0.357143</td>\n",
       "      <td>0.599034</td>\n",
       "      <td>0.765432</td>\n",
       "      <td>0.492063</td>\n",
       "      <td>0.743050</td>\n",
       "    </tr>\n",
       "    <tr>\n",
       "      <td>28</td>\n",
       "      <td>28</td>\n",
       "      <td>Irish shares have risen to a record high, with...</td>\n",
       "      <td>Irish markets reach all-time high Irish shares...</td>\n",
       "      <td>English</td>\n",
       "      <td>28</td>\n",
       "      <td>False</td>\n",
       "      <td>Irish markets reach all-time high Irish shares...</td>\n",
       "      <td>Telecoms firm Eircom, which recently revealed ...</td>\n",
       "      <td>Irish markets reach all-time high Irish shares...</td>\n",
       "      <td>The ISEQ index of leading shares closed up 23 ...</td>\n",
       "      <td>0.669565</td>\n",
       "      <td>0.950617</td>\n",
       "      <td>0.516779</td>\n",
       "      <td>0.631579</td>\n",
       "      <td>0.900000</td>\n",
       "      <td>0.486486</td>\n",
       "      <td>0.718563</td>\n",
       "      <td>0.923077</td>\n",
       "      <td>0.588235</td>\n",
       "      <td>0.884414</td>\n",
       "    </tr>\n",
       "  </tbody>\n",
       "</table>\n",
       "</div>"
      ],
      "text/plain": [
       "    index                                               Lead  \\\n",
       "2       2  Yukos' owner Menatep Group says it will ask Ro...   \n",
       "15     15  India's rupee has hit a five-year high after S...   \n",
       "23     23  The affected vehicles in the product recall ar...   \n",
       "27     27  US growth would reach 4.4% in 2004, but fall t...   \n",
       "28     28  Irish shares have risen to a record high, with...   \n",
       "\n",
       "                                                 Body Language  ID  isTrain  \\\n",
       "2   Yukos unit buyer faces loan claim The owners o...  English   2    False   \n",
       "15  India's rupee hits five-year high India's rupe...  English  15    False   \n",
       "23  Safety alert as GM recalls cars The world's bi...  English  23    False   \n",
       "27  Soaring oil 'hits world economy' The soaring c...  English  27    False   \n",
       "28  Irish markets reach all-time high Irish shares...  English  28    False   \n",
       "\n",
       "                                        Summary_CRSum  \\\n",
       "2   Yukos unit buyer faces loan claim The owners o...   \n",
       "15  India's rupee hits five-year high India's rupe...   \n",
       "23  Safety alert as GM recalls cars The world's bi...   \n",
       "27  Soaring oil 'hits world economy' The soaring c...   \n",
       "28  Irish markets reach all-time high Irish shares...   \n",
       "\n",
       "                                 Summary_Fasttext_SIF  \\\n",
       "2   Rosneft officials were unavailable for comment...   \n",
       "15  \"The upgrade is positive and basically people ...   \n",
       "23  This is because of possible malfunctions with ...   \n",
       "27  The price of crude is about 50% higher than it...   \n",
       "28  Telecoms firm Eircom, which recently revealed ...   \n",
       "\n",
       "                                 Summary_Loc_Baseline  \\\n",
       "2   Yukos unit buyer faces loan claim The owners o...   \n",
       "15  India's rupee hits five-year high India's rupe...   \n",
       "23  Safety alert as GM recalls cars The world's bi...   \n",
       "27  But the outlook was worst for the 12-member eu...   \n",
       "28  Irish markets reach all-time high Irish shares...   \n",
       "\n",
       "                                Summary_Fasttext_Mean      R1_f      R1_p  \\\n",
       "2   \"The pledged assets are with Rosneft, so it wi...  0.458150  0.520000   \n",
       "15  \"Money has moved out from India in the first t...  0.382353  0.329114   \n",
       "23  Safety alert as GM recalls cars The world's bi...  0.744589  0.955556   \n",
       "27  In its latest bi-annual report, the OECD cut i...  0.543624  0.801980   \n",
       "28  The ISEQ index of leading shares closed up 23 ...  0.669565  0.950617   \n",
       "\n",
       "        R1_r      R2_f      R2_p      R2_r      Rl_f      Rl_p      Rl_r  \\\n",
       "2   0.409449  0.320000  0.363636  0.285714  0.481928  0.512821  0.454545   \n",
       "15  0.456140  0.268657  0.230769  0.321429  0.414414  0.348485  0.511111   \n",
       "23  0.609929  0.707424  0.910112  0.578571  0.788889  0.946667  0.676190   \n",
       "27  0.411168  0.472973  0.700000  0.357143  0.599034  0.765432  0.492063   \n",
       "28  0.516779  0.631579  0.900000  0.486486  0.718563  0.923077  0.588235   \n",
       "\n",
       "    cosine_sim  \n",
       "2     0.856127  \n",
       "15    0.783486  \n",
       "23    0.799912  \n",
       "27    0.743050  \n",
       "28    0.884414  "
      ]
     },
     "execution_count": 15,
     "metadata": {},
     "output_type": "execute_result"
    }
   ],
   "source": [
    "test_data.head()"
   ]
  },
  {
   "cell_type": "code",
   "execution_count": 16,
   "metadata": {
    "scrolled": true
   },
   "outputs": [
    {
     "data": {
      "text/plain": [
       "count    8430.000000\n",
       "mean        0.064370\n",
       "std         0.106593\n",
       "min         0.000000\n",
       "25%         0.000000\n",
       "50%         0.028423\n",
       "75%         0.069767\n",
       "max         0.969325\n",
       "Name: R2_f, dtype: float64"
      ]
     },
     "execution_count": 16,
     "metadata": {},
     "output_type": "execute_result"
    }
   ],
   "source": [
    "test_data.R2_f.describe()"
   ]
  },
  {
   "cell_type": "code",
   "execution_count": 17,
   "metadata": {},
   "outputs": [
    {
     "data": {
      "text/plain": [
       "count    8430.000000\n",
       "mean        0.057302\n",
       "std         0.126776\n",
       "min         0.000000\n",
       "25%         0.000000\n",
       "50%         0.018519\n",
       "75%         0.048276\n",
       "max         1.000000\n",
       "Name: R2_p, dtype: float64"
      ]
     },
     "execution_count": 17,
     "metadata": {},
     "output_type": "execute_result"
    }
   ],
   "source": [
    "test_data.R2_p.describe()"
   ]
  },
  {
   "cell_type": "code",
   "execution_count": 18,
   "metadata": {},
   "outputs": [
    {
     "data": {
      "text/plain": [
       "count    8430.000000\n",
       "mean        0.105227\n",
       "std         0.140821\n",
       "min         0.000000\n",
       "25%         0.000000\n",
       "50%         0.057692\n",
       "75%         0.137931\n",
       "max         1.000000\n",
       "Name: R2_r, dtype: float64"
      ]
     },
     "execution_count": 18,
     "metadata": {},
     "output_type": "execute_result"
    }
   ],
   "source": [
    "test_data.R2_r.describe()"
   ]
  },
  {
   "cell_type": "code",
   "execution_count": 19,
   "metadata": {},
   "outputs": [
    {
     "data": {
      "text/plain": [
       "count    8430.000000\n",
       "mean        0.490970\n",
       "std         0.152030\n",
       "min        -0.022299\n",
       "25%         0.388154\n",
       "50%         0.498183\n",
       "75%         0.598949\n",
       "max         0.952937\n",
       "Name: cosine_sim, dtype: float64"
      ]
     },
     "execution_count": 19,
     "metadata": {},
     "output_type": "execute_result"
    }
   ],
   "source": [
    "test_data.cosine_sim.describe()"
   ]
  }
 ],
 "metadata": {
  "kernelspec": {
   "display_name": "Python 3",
   "language": "python",
   "name": "python3"
  },
  "language_info": {
   "codemirror_mode": {
    "name": "ipython",
    "version": 3
   },
   "file_extension": ".py",
   "mimetype": "text/x-python",
   "name": "python",
   "nbconvert_exporter": "python",
   "pygments_lexer": "ipython3",
   "version": "3.7.4"
  }
 },
 "nbformat": 4,
 "nbformat_minor": 2
}
