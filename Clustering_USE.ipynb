{
 "cells": [
  {
   "cell_type": "code",
   "execution_count": 1,
   "metadata": {},
   "outputs": [],
   "source": [
    "import pandas as pd\n",
    "import tqdm.notebook\n",
    "import random\n",
    "import numpy as np\n",
    "from sklearn.cluster import KMeans\n",
    "from sklearn import metrics"
   ]
  },
  {
   "cell_type": "code",
   "execution_count": 2,
   "metadata": {},
   "outputs": [],
   "source": [
    "from models.supervised import CRSum\n",
    "from UniversalSentenceEncoder import USEEmbedder\n",
    "from Preprocessors import CRSumPreprocessor"
   ]
  },
  {
   "cell_type": "code",
   "execution_count": 3,
   "metadata": {},
   "outputs": [],
   "source": [
    "test_data = pd.read_csv(\"Topic_Data.csv\")"
   ]
  },
  {
   "cell_type": "code",
   "execution_count": 4,
   "metadata": {},
   "outputs": [],
   "source": [
    "summarizer = CRSum(embedding_model=None, preprocessor=CRSumPreprocessor, M=5, N=5, verbose=False)"
   ]
  },
  {
   "cell_type": "code",
   "execution_count": 5,
   "metadata": {},
   "outputs": [],
   "source": [
    "summarizer.loadWeights(\"best_model.h5\")"
   ]
  },
  {
   "cell_type": "code",
   "execution_count": 6,
   "metadata": {},
   "outputs": [],
   "source": [
    "embedder = USEEmbedder(None)"
   ]
  },
  {
   "cell_type": "code",
   "execution_count": 7,
   "metadata": {
    "scrolled": true
   },
   "outputs": [
    {
     "data": {
      "text/html": [
       "<div>\n",
       "<style scoped>\n",
       "    .dataframe tbody tr th:only-of-type {\n",
       "        vertical-align: middle;\n",
       "    }\n",
       "\n",
       "    .dataframe tbody tr th {\n",
       "        vertical-align: top;\n",
       "    }\n",
       "\n",
       "    .dataframe thead th {\n",
       "        text-align: right;\n",
       "    }\n",
       "</style>\n",
       "<table border=\"1\" class=\"dataframe\">\n",
       "  <thead>\n",
       "    <tr style=\"text-align: right;\">\n",
       "      <th></th>\n",
       "      <th>lead</th>\n",
       "      <th>body</th>\n",
       "      <th>Language</th>\n",
       "      <th>Cluster</th>\n",
       "    </tr>\n",
       "  </thead>\n",
       "  <tbody>\n",
       "    <tr>\n",
       "      <td>0</td>\n",
       "      <td>Mit drastischen Worten warnen Politiker vor de...</td>\n",
       "      <td>Angela Merkel hat schon viele Krisen erlebt, a...</td>\n",
       "      <td>German</td>\n",
       "      <td>Climate</td>\n",
       "    </tr>\n",
       "    <tr>\n",
       "      <td>1</td>\n",
       "      <td>In immer mehr Gebieten des Great Barrier Reefs...</td>\n",
       "      <td>Geht die Farbenpracht des Great Barrier Reefs ...</td>\n",
       "      <td>German</td>\n",
       "      <td>Climate</td>\n",
       "    </tr>\n",
       "    <tr>\n",
       "      <td>2</td>\n",
       "      <td>Eine Stunde das Licht ausschalten als Zeichen ...</td>\n",
       "      <td>Die Earth Hour, die \"Stunde der Erde\", soll mi...</td>\n",
       "      <td>German</td>\n",
       "      <td>Climate</td>\n",
       "    </tr>\n",
       "    <tr>\n",
       "      <td>3</td>\n",
       "      <td>Die nächsten zehn Jahre werden noch heißer und...</td>\n",
       "      <td>Der Deutsche Wetterdienst zog am Dienstag in s...</td>\n",
       "      <td>German</td>\n",
       "      <td>Climate</td>\n",
       "    </tr>\n",
       "    <tr>\n",
       "      <td>4</td>\n",
       "      <td>Der Klimawandel lässt nach Prognosen des Deuts...</td>\n",
       "      <td>Das laufende Jahr könnte nach den Angaben des ...</td>\n",
       "      <td>German</td>\n",
       "      <td>Climate</td>\n",
       "    </tr>\n",
       "  </tbody>\n",
       "</table>\n",
       "</div>"
      ],
      "text/plain": [
       "                                                lead  \\\n",
       "0  Mit drastischen Worten warnen Politiker vor de...   \n",
       "1  In immer mehr Gebieten des Great Barrier Reefs...   \n",
       "2  Eine Stunde das Licht ausschalten als Zeichen ...   \n",
       "3  Die nächsten zehn Jahre werden noch heißer und...   \n",
       "4  Der Klimawandel lässt nach Prognosen des Deuts...   \n",
       "\n",
       "                                                body Language  Cluster  \n",
       "0  Angela Merkel hat schon viele Krisen erlebt, a...   German  Climate  \n",
       "1  Geht die Farbenpracht des Great Barrier Reefs ...   German  Climate  \n",
       "2  Die Earth Hour, die \"Stunde der Erde\", soll mi...   German  Climate  \n",
       "3  Der Deutsche Wetterdienst zog am Dienstag in s...   German  Climate  \n",
       "4  Das laufende Jahr könnte nach den Angaben des ...   German  Climate  "
      ]
     },
     "execution_count": 7,
     "metadata": {},
     "output_type": "execute_result"
    }
   ],
   "source": [
    "test_data.head()"
   ]
  },
  {
   "cell_type": "code",
   "execution_count": 8,
   "metadata": {},
   "outputs": [],
   "source": [
    "summaries = []"
   ]
  },
  {
   "cell_type": "code",
   "execution_count": 9,
   "metadata": {},
   "outputs": [
    {
     "data": {
      "application/vnd.jupyter.widget-view+json": {
       "model_id": "ac72c18ab93148dfb48aa4bcc7733f90",
       "version_major": 2,
       "version_minor": 0
      },
      "text/plain": [
       "HBox(children=(FloatProgress(value=0.0, max=3233.0), HTML(value='')))"
      ]
     },
     "metadata": {},
     "output_type": "display_data"
    },
    {
     "name": "stderr",
     "output_type": "stream",
     "text": [
      "[nltk_data] Downloading package stopwords to\n",
      "[nltk_data]     /home/swrdata/nltk_data...\n",
      "[nltk_data]   Package stopwords is already up-to-date!\n",
      "[nltk_data] Downloading package stopwords to\n",
      "[nltk_data]     /home/swrdata/nltk_data...\n",
      "[nltk_data]   Package stopwords is already up-to-date!\n",
      "[nltk_data] Downloading package stopwords to\n",
      "[nltk_data]     /home/swrdata/nltk_data...\n",
      "[nltk_data]   Package stopwords is already up-to-date!\n"
     ]
    },
    {
     "name": "stdout",
     "output_type": "stream",
     "text": [
      "\n"
     ]
    }
   ],
   "source": [
    "for i, row in tqdm.notebook.tqdm(test_data.iterrows(), total=len(test_data.index)):\n",
    "    try:\n",
    "        smry = summarizer.summarize(row.body, row.Language, 0.2)\n",
    "    except:\n",
    "        smry = \" \"\n",
    "    summaries.append(smry)"
   ]
  },
  {
   "cell_type": "code",
   "execution_count": 10,
   "metadata": {},
   "outputs": [],
   "source": [
    "test_data[\"Pred_Summary\"] = summaries"
   ]
  },
  {
   "cell_type": "code",
   "execution_count": 11,
   "metadata": {
    "scrolled": false
   },
   "outputs": [
    {
     "data": {
      "text/html": [
       "<div>\n",
       "<style scoped>\n",
       "    .dataframe tbody tr th:only-of-type {\n",
       "        vertical-align: middle;\n",
       "    }\n",
       "\n",
       "    .dataframe tbody tr th {\n",
       "        vertical-align: top;\n",
       "    }\n",
       "\n",
       "    .dataframe thead th {\n",
       "        text-align: right;\n",
       "    }\n",
       "</style>\n",
       "<table border=\"1\" class=\"dataframe\">\n",
       "  <thead>\n",
       "    <tr style=\"text-align: right;\">\n",
       "      <th></th>\n",
       "      <th>lead</th>\n",
       "      <th>body</th>\n",
       "      <th>Language</th>\n",
       "      <th>Cluster</th>\n",
       "      <th>Pred_Summary</th>\n",
       "    </tr>\n",
       "  </thead>\n",
       "  <tbody>\n",
       "    <tr>\n",
       "      <td>0</td>\n",
       "      <td>Mit drastischen Worten warnen Politiker vor de...</td>\n",
       "      <td>Angela Merkel hat schon viele Krisen erlebt, a...</td>\n",
       "      <td>German</td>\n",
       "      <td>Climate</td>\n",
       "      <td>Angela Merkel hat schon viele Krisen erlebt, a...</td>\n",
       "    </tr>\n",
       "    <tr>\n",
       "      <td>1</td>\n",
       "      <td>In immer mehr Gebieten des Great Barrier Reefs...</td>\n",
       "      <td>Geht die Farbenpracht des Great Barrier Reefs ...</td>\n",
       "      <td>German</td>\n",
       "      <td>Climate</td>\n",
       "      <td>Denn das weltgrößte Riff vor der Nordostküste ...</td>\n",
       "    </tr>\n",
       "    <tr>\n",
       "      <td>2</td>\n",
       "      <td>Eine Stunde das Licht ausschalten als Zeichen ...</td>\n",
       "      <td>Die Earth Hour, die \"Stunde der Erde\", soll mi...</td>\n",
       "      <td>German</td>\n",
       "      <td>Climate</td>\n",
       "      <td>Die Earth Hour, die \"Stunde der Erde\", soll mi...</td>\n",
       "    </tr>\n",
       "    <tr>\n",
       "      <td>3</td>\n",
       "      <td>Die nächsten zehn Jahre werden noch heißer und...</td>\n",
       "      <td>Der Deutsche Wetterdienst zog am Dienstag in s...</td>\n",
       "      <td>German</td>\n",
       "      <td>Climate</td>\n",
       "      <td>Die Niederschläge werden in diesem Jahr vermut...</td>\n",
       "    </tr>\n",
       "    <tr>\n",
       "      <td>4</td>\n",
       "      <td>Der Klimawandel lässt nach Prognosen des Deuts...</td>\n",
       "      <td>Das laufende Jahr könnte nach den Angaben des ...</td>\n",
       "      <td>German</td>\n",
       "      <td>Climate</td>\n",
       "      <td>Das laufende Jahr könnte nach den Angaben des ...</td>\n",
       "    </tr>\n",
       "  </tbody>\n",
       "</table>\n",
       "</div>"
      ],
      "text/plain": [
       "                                                lead  \\\n",
       "0  Mit drastischen Worten warnen Politiker vor de...   \n",
       "1  In immer mehr Gebieten des Great Barrier Reefs...   \n",
       "2  Eine Stunde das Licht ausschalten als Zeichen ...   \n",
       "3  Die nächsten zehn Jahre werden noch heißer und...   \n",
       "4  Der Klimawandel lässt nach Prognosen des Deuts...   \n",
       "\n",
       "                                                body Language  Cluster  \\\n",
       "0  Angela Merkel hat schon viele Krisen erlebt, a...   German  Climate   \n",
       "1  Geht die Farbenpracht des Great Barrier Reefs ...   German  Climate   \n",
       "2  Die Earth Hour, die \"Stunde der Erde\", soll mi...   German  Climate   \n",
       "3  Der Deutsche Wetterdienst zog am Dienstag in s...   German  Climate   \n",
       "4  Das laufende Jahr könnte nach den Angaben des ...   German  Climate   \n",
       "\n",
       "                                        Pred_Summary  \n",
       "0  Angela Merkel hat schon viele Krisen erlebt, a...  \n",
       "1  Denn das weltgrößte Riff vor der Nordostküste ...  \n",
       "2  Die Earth Hour, die \"Stunde der Erde\", soll mi...  \n",
       "3  Die Niederschläge werden in diesem Jahr vermut...  \n",
       "4  Das laufende Jahr könnte nach den Angaben des ...  "
      ]
     },
     "execution_count": 11,
     "metadata": {},
     "output_type": "execute_result"
    }
   ],
   "source": [
    "test_data.head()"
   ]
  },
  {
   "cell_type": "code",
   "execution_count": 12,
   "metadata": {},
   "outputs": [],
   "source": [
    "sum_embedding_matrix = np.zeros((0,512))\n",
    "body_embedding_matrix = np.zeros((0,512))"
   ]
  },
  {
   "cell_type": "code",
   "execution_count": 13,
   "metadata": {
    "scrolled": true
   },
   "outputs": [
    {
     "data": {
      "application/vnd.jupyter.widget-view+json": {
       "model_id": "099786a06cd44b01b1b5f23da521e141",
       "version_major": 2,
       "version_minor": 0
      },
      "text/plain": [
       "HBox(children=(FloatProgress(value=0.0, max=3233.0), HTML(value='')))"
      ]
     },
     "metadata": {},
     "output_type": "display_data"
    },
    {
     "name": "stdout",
     "output_type": "stream",
     "text": [
      "\n"
     ]
    }
   ],
   "source": [
    "for _, row in tqdm.notebook.tqdm(test_data.iterrows(), total = len(test_data.index)):\n",
    "    sum_embedding_matrix = np.concatenate((sum_embedding_matrix, embedder.embed(row.Pred_Summary)), axis=0)\n",
    "    body_embedding_matrix = np.concatenate((body_embedding_matrix, embedder.embed(row.body)), axis=0)"
   ]
  },
  {
   "cell_type": "code",
   "execution_count": 14,
   "metadata": {},
   "outputs": [
    {
     "data": {
      "text/plain": [
       "array(['Climate', 'Coronavirus', 'Korea', 'Oilprice'], dtype=object)"
      ]
     },
     "execution_count": 14,
     "metadata": {},
     "output_type": "execute_result"
    }
   ],
   "source": [
    "test_data.Cluster.unique()"
   ]
  },
  {
   "cell_type": "code",
   "execution_count": 15,
   "metadata": {
    "scrolled": true
   },
   "outputs": [],
   "source": [
    "test_data[\"Topic_Cat\"] = pd.factorize(test_data.Cluster)[0]"
   ]
  },
  {
   "cell_type": "code",
   "execution_count": 16,
   "metadata": {},
   "outputs": [
    {
     "data": {
      "text/html": [
       "<div>\n",
       "<style scoped>\n",
       "    .dataframe tbody tr th:only-of-type {\n",
       "        vertical-align: middle;\n",
       "    }\n",
       "\n",
       "    .dataframe tbody tr th {\n",
       "        vertical-align: top;\n",
       "    }\n",
       "\n",
       "    .dataframe thead th {\n",
       "        text-align: right;\n",
       "    }\n",
       "</style>\n",
       "<table border=\"1\" class=\"dataframe\">\n",
       "  <thead>\n",
       "    <tr style=\"text-align: right;\">\n",
       "      <th></th>\n",
       "      <th>lead</th>\n",
       "      <th>body</th>\n",
       "      <th>Language</th>\n",
       "      <th>Cluster</th>\n",
       "      <th>Pred_Summary</th>\n",
       "      <th>Topic_Cat</th>\n",
       "    </tr>\n",
       "  </thead>\n",
       "  <tbody>\n",
       "    <tr>\n",
       "      <td>0</td>\n",
       "      <td>Mit drastischen Worten warnen Politiker vor de...</td>\n",
       "      <td>Angela Merkel hat schon viele Krisen erlebt, a...</td>\n",
       "      <td>German</td>\n",
       "      <td>Climate</td>\n",
       "      <td>Angela Merkel hat schon viele Krisen erlebt, a...</td>\n",
       "      <td>0</td>\n",
       "    </tr>\n",
       "    <tr>\n",
       "      <td>1</td>\n",
       "      <td>In immer mehr Gebieten des Great Barrier Reefs...</td>\n",
       "      <td>Geht die Farbenpracht des Great Barrier Reefs ...</td>\n",
       "      <td>German</td>\n",
       "      <td>Climate</td>\n",
       "      <td>Denn das weltgrößte Riff vor der Nordostküste ...</td>\n",
       "      <td>0</td>\n",
       "    </tr>\n",
       "    <tr>\n",
       "      <td>2</td>\n",
       "      <td>Eine Stunde das Licht ausschalten als Zeichen ...</td>\n",
       "      <td>Die Earth Hour, die \"Stunde der Erde\", soll mi...</td>\n",
       "      <td>German</td>\n",
       "      <td>Climate</td>\n",
       "      <td>Die Earth Hour, die \"Stunde der Erde\", soll mi...</td>\n",
       "      <td>0</td>\n",
       "    </tr>\n",
       "    <tr>\n",
       "      <td>3</td>\n",
       "      <td>Die nächsten zehn Jahre werden noch heißer und...</td>\n",
       "      <td>Der Deutsche Wetterdienst zog am Dienstag in s...</td>\n",
       "      <td>German</td>\n",
       "      <td>Climate</td>\n",
       "      <td>Die Niederschläge werden in diesem Jahr vermut...</td>\n",
       "      <td>0</td>\n",
       "    </tr>\n",
       "    <tr>\n",
       "      <td>4</td>\n",
       "      <td>Der Klimawandel lässt nach Prognosen des Deuts...</td>\n",
       "      <td>Das laufende Jahr könnte nach den Angaben des ...</td>\n",
       "      <td>German</td>\n",
       "      <td>Climate</td>\n",
       "      <td>Das laufende Jahr könnte nach den Angaben des ...</td>\n",
       "      <td>0</td>\n",
       "    </tr>\n",
       "  </tbody>\n",
       "</table>\n",
       "</div>"
      ],
      "text/plain": [
       "                                                lead  \\\n",
       "0  Mit drastischen Worten warnen Politiker vor de...   \n",
       "1  In immer mehr Gebieten des Great Barrier Reefs...   \n",
       "2  Eine Stunde das Licht ausschalten als Zeichen ...   \n",
       "3  Die nächsten zehn Jahre werden noch heißer und...   \n",
       "4  Der Klimawandel lässt nach Prognosen des Deuts...   \n",
       "\n",
       "                                                body Language  Cluster  \\\n",
       "0  Angela Merkel hat schon viele Krisen erlebt, a...   German  Climate   \n",
       "1  Geht die Farbenpracht des Great Barrier Reefs ...   German  Climate   \n",
       "2  Die Earth Hour, die \"Stunde der Erde\", soll mi...   German  Climate   \n",
       "3  Der Deutsche Wetterdienst zog am Dienstag in s...   German  Climate   \n",
       "4  Das laufende Jahr könnte nach den Angaben des ...   German  Climate   \n",
       "\n",
       "                                        Pred_Summary  Topic_Cat  \n",
       "0  Angela Merkel hat schon viele Krisen erlebt, a...          0  \n",
       "1  Denn das weltgrößte Riff vor der Nordostküste ...          0  \n",
       "2  Die Earth Hour, die \"Stunde der Erde\", soll mi...          0  \n",
       "3  Die Niederschläge werden in diesem Jahr vermut...          0  \n",
       "4  Das laufende Jahr könnte nach den Angaben des ...          0  "
      ]
     },
     "execution_count": 16,
     "metadata": {},
     "output_type": "execute_result"
    }
   ],
   "source": [
    "test_data.head()"
   ]
  },
  {
   "cell_type": "code",
   "execution_count": 17,
   "metadata": {},
   "outputs": [
    {
     "data": {
      "application/vnd.jupyter.widget-view+json": {
       "model_id": "d6fba9681f154e1f88fc25ebc99deec3",
       "version_major": 2,
       "version_minor": 0
      },
      "text/plain": [
       "HBox(children=(FloatProgress(value=0.0, max=19.0), HTML(value='')))"
      ]
     },
     "metadata": {},
     "output_type": "display_data"
    },
    {
     "name": "stdout",
     "output_type": "stream",
     "text": [
      "\n"
     ]
    }
   ],
   "source": [
    "sil = []\n",
    "ks = []\n",
    "kmax = 20\n",
    "\n",
    "# dissimilarity would not be defined for a single cluster, thus, minimum number of clusters should be 2\n",
    "for k in tqdm.notebook.tqdm(range(2, kmax+1)):\n",
    "    kmeans = KMeans(n_clusters = k, n_jobs=-1).fit(sum_embedding_matrix)\n",
    "    labels = kmeans.labels_\n",
    "    sil.append(metrics.silhouette_score(sum_embedding_matrix, labels, metric = 'euclidean'))\n",
    "    ks.append(k)"
   ]
  },
  {
   "cell_type": "code",
   "execution_count": 18,
   "metadata": {},
   "outputs": [
    {
     "data": {
      "text/plain": [
       "7"
      ]
     },
     "execution_count": 18,
     "metadata": {},
     "output_type": "execute_result"
    }
   ],
   "source": [
    "ks[sil.index(max(sil))]"
   ]
  },
  {
   "cell_type": "code",
   "execution_count": 19,
   "metadata": {
    "scrolled": true
   },
   "outputs": [],
   "source": [
    "sum_clustering = KMeans(n_clusters = ks[sil.index(max(sil))], n_jobs=-1).fit(sum_embedding_matrix)"
   ]
  },
  {
   "cell_type": "code",
   "execution_count": 20,
   "metadata": {},
   "outputs": [],
   "source": [
    "body_clustering = KMeans(n_clusters = ks[sil.index(max(sil))], n_jobs=-1).fit(body_embedding_matrix)"
   ]
  },
  {
   "cell_type": "code",
   "execution_count": 21,
   "metadata": {
    "scrolled": true
   },
   "outputs": [],
   "source": [
    "sum_pred_clusters  = sum_clustering.labels_.tolist()\n",
    "body_pred_clusters  = body_clustering.labels_.tolist()\n",
    "true_clusters = test_data.Topic_Cat.tolist()"
   ]
  },
  {
   "cell_type": "code",
   "execution_count": 22,
   "metadata": {},
   "outputs": [
    {
     "data": {
      "text/plain": [
       "True"
      ]
     },
     "execution_count": 22,
     "metadata": {},
     "output_type": "execute_result"
    }
   ],
   "source": [
    "len(sum_pred_clusters) == len(true_clusters)# == len(body_pred_clusters)"
   ]
  },
  {
   "cell_type": "code",
   "execution_count": 23,
   "metadata": {},
   "outputs": [
    {
     "data": {
      "text/plain": [
       "0.5465393013840192"
      ]
     },
     "execution_count": 23,
     "metadata": {},
     "output_type": "execute_result"
    }
   ],
   "source": [
    "metrics.adjusted_mutual_info_score(true_clusters, sum_pred_clusters)  "
   ]
  },
  {
   "cell_type": "code",
   "execution_count": 24,
   "metadata": {},
   "outputs": [
    {
     "data": {
      "text/plain": [
       "0.5019665888543414"
      ]
     },
     "execution_count": 24,
     "metadata": {},
     "output_type": "execute_result"
    }
   ],
   "source": [
    "metrics.adjusted_mutual_info_score(true_clusters, body_pred_clusters)  "
   ]
  },
  {
   "cell_type": "markdown",
   "metadata": {},
   "source": [
    "## Random Baseline"
   ]
  },
  {
   "cell_type": "code",
   "execution_count": 25,
   "metadata": {
    "scrolled": true
   },
   "outputs": [],
   "source": [
    "random_clusters = [np.random.choice(np.arange(0, 4), p=[0.2, 0.32, 0.22, 0.26]) for i in range(len(true_clusters))]"
   ]
  },
  {
   "cell_type": "code",
   "execution_count": 26,
   "metadata": {},
   "outputs": [
    {
     "data": {
      "text/plain": [
       "-0.0005609384961465434"
      ]
     },
     "execution_count": 26,
     "metadata": {},
     "output_type": "execute_result"
    }
   ],
   "source": [
    "metrics.adjusted_mutual_info_score(true_clusters, random_clusters)  "
   ]
  },
  {
   "cell_type": "markdown",
   "metadata": {},
   "source": [
    "## Majority Class Baseline"
   ]
  },
  {
   "cell_type": "code",
   "execution_count": 27,
   "metadata": {},
   "outputs": [],
   "source": [
    "majority_clusters = [1]*len(true_clusters)"
   ]
  },
  {
   "cell_type": "code",
   "execution_count": 28,
   "metadata": {},
   "outputs": [
    {
     "data": {
      "text/plain": [
       "-1.4158281625007905e-15"
      ]
     },
     "execution_count": 28,
     "metadata": {},
     "output_type": "execute_result"
    }
   ],
   "source": [
    "metrics.adjusted_mutual_info_score(true_clusters, majority_clusters)  "
   ]
  },
  {
   "cell_type": "code",
   "execution_count": null,
   "metadata": {},
   "outputs": [],
   "source": []
  }
 ],
 "metadata": {
  "kernelspec": {
   "display_name": "Python 3",
   "language": "python",
   "name": "python3"
  },
  "language_info": {
   "codemirror_mode": {
    "name": "ipython",
    "version": 3
   },
   "file_extension": ".py",
   "mimetype": "text/x-python",
   "name": "python",
   "nbconvert_exporter": "python",
   "pygments_lexer": "ipython3",
   "version": "3.7.4"
  }
 },
 "nbformat": 4,
 "nbformat_minor": 2
}
