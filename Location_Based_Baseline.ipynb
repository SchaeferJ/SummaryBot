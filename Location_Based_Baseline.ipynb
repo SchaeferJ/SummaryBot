{
 "cells": [
  {
   "cell_type": "markdown",
   "metadata": {},
   "source": [
    "# Experiment 0: Baselines"
   ]
  },
  {
   "cell_type": "markdown",
   "metadata": {},
   "source": [
    "In this experiment, summaries are generated based on simple heuristics."
   ]
  },
  {
   "cell_type": "code",
   "execution_count": 1,
   "metadata": {},
   "outputs": [],
   "source": [
    "import pandas as pd\n",
    "import nltk\n",
    "import tqdm\n",
    "from rouge import Rouge\n",
    "from nltk.tokenize import sent_tokenize"
   ]
  },
  {
   "cell_type": "code",
   "execution_count": 2,
   "metadata": {},
   "outputs": [],
   "source": [
    "from Evaluator import USEevaluator"
   ]
  },
  {
   "cell_type": "code",
   "execution_count": 3,
   "metadata": {},
   "outputs": [
    {
     "name": "stderr",
     "output_type": "stream",
     "text": [
      "[nltk_data] Downloading package punkt to /home/swrdata/nltk_data...\n",
      "[nltk_data]   Package punkt is already up-to-date!\n"
     ]
    },
    {
     "data": {
      "text/plain": [
       "True"
      ]
     },
     "execution_count": 3,
     "metadata": {},
     "output_type": "execute_result"
    }
   ],
   "source": [
    "nltk.download('punkt')"
   ]
  },
  {
   "cell_type": "code",
   "execution_count": 4,
   "metadata": {},
   "outputs": [],
   "source": [
    "test_data = pd.read_pickle(\"./training_data/test_raw.pkl\")"
   ]
  },
  {
   "cell_type": "code",
   "execution_count": 5,
   "metadata": {},
   "outputs": [],
   "source": [
    "test_data = test_data.sort_values(by=['Language'])"
   ]
  },
  {
   "cell_type": "code",
   "execution_count": 6,
   "metadata": {},
   "outputs": [
    {
     "data": {
      "text/html": [
       "<div>\n",
       "<style scoped>\n",
       "    .dataframe tbody tr th:only-of-type {\n",
       "        vertical-align: middle;\n",
       "    }\n",
       "\n",
       "    .dataframe tbody tr th {\n",
       "        vertical-align: top;\n",
       "    }\n",
       "\n",
       "    .dataframe thead th {\n",
       "        text-align: right;\n",
       "    }\n",
       "</style>\n",
       "<table border=\"1\" class=\"dataframe\">\n",
       "  <thead>\n",
       "    <tr style=\"text-align: right;\">\n",
       "      <th></th>\n",
       "      <th>index</th>\n",
       "      <th>Lead</th>\n",
       "      <th>Body</th>\n",
       "      <th>Language</th>\n",
       "      <th>ID</th>\n",
       "      <th>isTrain</th>\n",
       "      <th>Summary_CRSum</th>\n",
       "      <th>Summary_Fasttext_SIF</th>\n",
       "    </tr>\n",
       "  </thead>\n",
       "  <tbody>\n",
       "    <tr>\n",
       "      <td>2</td>\n",
       "      <td>2</td>\n",
       "      <td>Yukos' owner Menatep Group says it will ask Ro...</td>\n",
       "      <td>Yukos unit buyer faces loan claim The owners o...</td>\n",
       "      <td>English</td>\n",
       "      <td>2</td>\n",
       "      <td>False</td>\n",
       "      <td>Yukos unit buyer faces loan claim The owners o...</td>\n",
       "      <td>Rosneft officials were unavailable for comment...</td>\n",
       "    </tr>\n",
       "    <tr>\n",
       "      <td>14</td>\n",
       "      <td>14</td>\n",
       "      <td>On Tuesday, the company's administrator, turna...</td>\n",
       "      <td>Parmalat boasts doubled profits Parmalat, the ...</td>\n",
       "      <td>English</td>\n",
       "      <td>14</td>\n",
       "      <td>False</td>\n",
       "      <td>Less welcome was the news that the firm had be...</td>\n",
       "      <td>But a crucial factor for the company's future ...</td>\n",
       "    </tr>\n",
       "    <tr>\n",
       "      <td>15</td>\n",
       "      <td>15</td>\n",
       "      <td>India's rupee has hit a five-year high after S...</td>\n",
       "      <td>India's rupee hits five-year high India's rupe...</td>\n",
       "      <td>English</td>\n",
       "      <td>15</td>\n",
       "      <td>False</td>\n",
       "      <td>India's rupee hits five-year high India's rupe...</td>\n",
       "      <td>\"The upgrade is positive and basically people ...</td>\n",
       "    </tr>\n",
       "    <tr>\n",
       "      <td>23</td>\n",
       "      <td>23</td>\n",
       "      <td>The affected vehicles in the product recall ar...</td>\n",
       "      <td>Safety alert as GM recalls cars The world's bi...</td>\n",
       "      <td>English</td>\n",
       "      <td>23</td>\n",
       "      <td>False</td>\n",
       "      <td>Safety alert as GM recalls cars The world's bi...</td>\n",
       "      <td>This is because of possible malfunctions with ...</td>\n",
       "    </tr>\n",
       "    <tr>\n",
       "      <td>27</td>\n",
       "      <td>27</td>\n",
       "      <td>US growth would reach 4.4% in 2004, but fall t...</td>\n",
       "      <td>Soaring oil 'hits world economy' The soaring c...</td>\n",
       "      <td>English</td>\n",
       "      <td>27</td>\n",
       "      <td>False</td>\n",
       "      <td>Soaring oil 'hits world economy' The soaring c...</td>\n",
       "      <td>The price of crude is about 50% higher than it...</td>\n",
       "    </tr>\n",
       "  </tbody>\n",
       "</table>\n",
       "</div>"
      ],
      "text/plain": [
       "    index                                               Lead  \\\n",
       "2       2  Yukos' owner Menatep Group says it will ask Ro...   \n",
       "14     14  On Tuesday, the company's administrator, turna...   \n",
       "15     15  India's rupee has hit a five-year high after S...   \n",
       "23     23  The affected vehicles in the product recall ar...   \n",
       "27     27  US growth would reach 4.4% in 2004, but fall t...   \n",
       "\n",
       "                                                 Body Language  ID  isTrain  \\\n",
       "2   Yukos unit buyer faces loan claim The owners o...  English   2    False   \n",
       "14  Parmalat boasts doubled profits Parmalat, the ...  English  14    False   \n",
       "15  India's rupee hits five-year high India's rupe...  English  15    False   \n",
       "23  Safety alert as GM recalls cars The world's bi...  English  23    False   \n",
       "27  Soaring oil 'hits world economy' The soaring c...  English  27    False   \n",
       "\n",
       "                                        Summary_CRSum  \\\n",
       "2   Yukos unit buyer faces loan claim The owners o...   \n",
       "14  Less welcome was the news that the firm had be...   \n",
       "15  India's rupee hits five-year high India's rupe...   \n",
       "23  Safety alert as GM recalls cars The world's bi...   \n",
       "27  Soaring oil 'hits world economy' The soaring c...   \n",
       "\n",
       "                                 Summary_Fasttext_SIF  \n",
       "2   Rosneft officials were unavailable for comment...  \n",
       "14  But a crucial factor for the company's future ...  \n",
       "15  \"The upgrade is positive and basically people ...  \n",
       "23  This is because of possible malfunctions with ...  \n",
       "27  The price of crude is about 50% higher than it...  "
      ]
     },
     "execution_count": 6,
     "metadata": {},
     "output_type": "execute_result"
    }
   ],
   "source": [
    "test_data.head()"
   ]
  },
  {
   "cell_type": "code",
   "execution_count": 7,
   "metadata": {},
   "outputs": [],
   "source": [
    "comparator = USEevaluator(metric=\"cosine\")"
   ]
  },
  {
   "cell_type": "code",
   "execution_count": 8,
   "metadata": {},
   "outputs": [],
   "source": [
    "summaries = []\n",
    "cosims = []"
   ]
  },
  {
   "cell_type": "code",
   "execution_count": 9,
   "metadata": {},
   "outputs": [],
   "source": [
    "flatdict = {}\n",
    "rouge = Rouge()"
   ]
  },
  {
   "cell_type": "code",
   "execution_count": 10,
   "metadata": {
    "scrolled": false
   },
   "outputs": [
    {
     "name": "stderr",
     "output_type": "stream",
     "text": [
      "/home/swrdata/anaconda3/lib/python3.7/site-packages/ipykernel_launcher.py:1: TqdmDeprecationWarning: This function will be removed in tqdm==5.0.0\n",
      "Please use `tqdm.notebook.tqdm` instead of `tqdm.tqdm_notebook`\n",
      "  \"\"\"Entry point for launching an IPython kernel.\n"
     ]
    },
    {
     "data": {
      "application/vnd.jupyter.widget-view+json": {
       "model_id": "c509345e2bc34ba28bac5d54c48406f9",
       "version_major": 2,
       "version_minor": 0
      },
      "text/plain": [
       "HBox(children=(FloatProgress(value=0.0, max=8430.0), HTML(value='')))"
      ]
     },
     "metadata": {},
     "output_type": "display_data"
    },
    {
     "name": "stdout",
     "output_type": "stream",
     "text": [
      "\n"
     ]
    }
   ],
   "source": [
    "for i, row in tqdm.tqdm_notebook(test_data.iterrows(), total=len(test_data.index)):\n",
    "    try:\n",
    "        sents = sent_tokenize(row.Body, row.Language.lower())\n",
    "        sumlen = round(0.2*len(sents))\n",
    "        smry = \" \".join(sents[0:sumlen])\n",
    "    except:\n",
    "        smry = \" \"\n",
    "    if smry==\"\":\n",
    "        smry = \" \"\n",
    "    summaries.append(smry)\n",
    "    flatlist = []\n",
    "    scores = rouge.get_scores(smry, row.Lead)[0]\n",
    "    for metric in scores:\n",
    "        for key in scores[metric]:\n",
    "            flatlist.append(scores[metric][key])\n",
    "    flatdict[i] = flatlist\n",
    "    cosims.append(comparator.compare(smry, row.Lead))"
   ]
  },
  {
   "cell_type": "code",
   "execution_count": 11,
   "metadata": {},
   "outputs": [],
   "source": [
    "test_data[\"Summary_Loc_Baseline\"] = summaries"
   ]
  },
  {
   "cell_type": "code",
   "execution_count": 12,
   "metadata": {},
   "outputs": [],
   "source": [
    "test_data.to_pickle('./training_data/test_raw.pkl')"
   ]
  },
  {
   "cell_type": "code",
   "execution_count": 13,
   "metadata": {},
   "outputs": [],
   "source": [
    "r_scores = pd.DataFrame.from_dict(flatdict, orient=\"index\",\n",
    "                       columns=['R1_f', 'R1_p', 'R1_r', 'R2_f', 'R2_p', 'R2_r','Rl_f', 'Rl_p', 'Rl_r'])"
   ]
  },
  {
   "cell_type": "code",
   "execution_count": 14,
   "metadata": {},
   "outputs": [],
   "source": [
    "test_data = pd.merge(test_data, r_scores, left_index=True, right_index=True)"
   ]
  },
  {
   "cell_type": "code",
   "execution_count": 15,
   "metadata": {},
   "outputs": [],
   "source": [
    "test_data[\"cosine_sim\"] = cosims"
   ]
  },
  {
   "cell_type": "code",
   "execution_count": 16,
   "metadata": {},
   "outputs": [
    {
     "data": {
      "text/html": [
       "<div>\n",
       "<style scoped>\n",
       "    .dataframe tbody tr th:only-of-type {\n",
       "        vertical-align: middle;\n",
       "    }\n",
       "\n",
       "    .dataframe tbody tr th {\n",
       "        vertical-align: top;\n",
       "    }\n",
       "\n",
       "    .dataframe thead th {\n",
       "        text-align: right;\n",
       "    }\n",
       "</style>\n",
       "<table border=\"1\" class=\"dataframe\">\n",
       "  <thead>\n",
       "    <tr style=\"text-align: right;\">\n",
       "      <th></th>\n",
       "      <th>index</th>\n",
       "      <th>Lead</th>\n",
       "      <th>Body</th>\n",
       "      <th>Language</th>\n",
       "      <th>ID</th>\n",
       "      <th>isTrain</th>\n",
       "      <th>Summary_CRSum</th>\n",
       "      <th>Summary_Fasttext_SIF</th>\n",
       "      <th>Summary_Loc_Baseline</th>\n",
       "      <th>R1_f</th>\n",
       "      <th>R1_p</th>\n",
       "      <th>R1_r</th>\n",
       "      <th>R2_f</th>\n",
       "      <th>R2_p</th>\n",
       "      <th>R2_r</th>\n",
       "      <th>Rl_f</th>\n",
       "      <th>Rl_p</th>\n",
       "      <th>Rl_r</th>\n",
       "      <th>cosine_sim</th>\n",
       "    </tr>\n",
       "  </thead>\n",
       "  <tbody>\n",
       "    <tr>\n",
       "      <td>2</td>\n",
       "      <td>2</td>\n",
       "      <td>Yukos' owner Menatep Group says it will ask Ro...</td>\n",
       "      <td>Yukos unit buyer faces loan claim The owners o...</td>\n",
       "      <td>English</td>\n",
       "      <td>2</td>\n",
       "      <td>False</td>\n",
       "      <td>Yukos unit buyer faces loan claim The owners o...</td>\n",
       "      <td>Rosneft officials were unavailable for comment...</td>\n",
       "      <td>Yukos unit buyer faces loan claim The owners o...</td>\n",
       "      <td>0.404372</td>\n",
       "      <td>0.660714</td>\n",
       "      <td>0.291339</td>\n",
       "      <td>0.276243</td>\n",
       "      <td>0.454545</td>\n",
       "      <td>0.198413</td>\n",
       "      <td>0.442748</td>\n",
       "      <td>0.674419</td>\n",
       "      <td>0.329545</td>\n",
       "      <td>0.647187</td>\n",
       "    </tr>\n",
       "    <tr>\n",
       "      <td>14</td>\n",
       "      <td>14</td>\n",
       "      <td>On Tuesday, the company's administrator, turna...</td>\n",
       "      <td>Parmalat boasts doubled profits Parmalat, the ...</td>\n",
       "      <td>English</td>\n",
       "      <td>14</td>\n",
       "      <td>False</td>\n",
       "      <td>Less welcome was the news that the firm had be...</td>\n",
       "      <td>But a crucial factor for the company's future ...</td>\n",
       "      <td>Parmalat boasts doubled profits Parmalat, the ...</td>\n",
       "      <td>0.161765</td>\n",
       "      <td>0.234043</td>\n",
       "      <td>0.123596</td>\n",
       "      <td>0.000000</td>\n",
       "      <td>0.000000</td>\n",
       "      <td>0.000000</td>\n",
       "      <td>0.127273</td>\n",
       "      <td>0.175000</td>\n",
       "      <td>0.100000</td>\n",
       "      <td>0.221596</td>\n",
       "    </tr>\n",
       "    <tr>\n",
       "      <td>15</td>\n",
       "      <td>15</td>\n",
       "      <td>India's rupee has hit a five-year high after S...</td>\n",
       "      <td>India's rupee hits five-year high India's rupe...</td>\n",
       "      <td>English</td>\n",
       "      <td>15</td>\n",
       "      <td>False</td>\n",
       "      <td>India's rupee hits five-year high India's rupe...</td>\n",
       "      <td>\"The upgrade is positive and basically people ...</td>\n",
       "      <td>India's rupee hits five-year high India's rupe...</td>\n",
       "      <td>0.428571</td>\n",
       "      <td>0.512195</td>\n",
       "      <td>0.368421</td>\n",
       "      <td>0.354167</td>\n",
       "      <td>0.425000</td>\n",
       "      <td>0.303571</td>\n",
       "      <td>0.506329</td>\n",
       "      <td>0.588235</td>\n",
       "      <td>0.444444</td>\n",
       "      <td>0.573081</td>\n",
       "    </tr>\n",
       "    <tr>\n",
       "      <td>23</td>\n",
       "      <td>23</td>\n",
       "      <td>The affected vehicles in the product recall ar...</td>\n",
       "      <td>Safety alert as GM recalls cars The world's bi...</td>\n",
       "      <td>English</td>\n",
       "      <td>23</td>\n",
       "      <td>False</td>\n",
       "      <td>Safety alert as GM recalls cars The world's bi...</td>\n",
       "      <td>This is because of possible malfunctions with ...</td>\n",
       "      <td>Safety alert as GM recalls cars The world's bi...</td>\n",
       "      <td>0.482412</td>\n",
       "      <td>0.827586</td>\n",
       "      <td>0.340426</td>\n",
       "      <td>0.416244</td>\n",
       "      <td>0.719298</td>\n",
       "      <td>0.292857</td>\n",
       "      <td>0.547771</td>\n",
       "      <td>0.826923</td>\n",
       "      <td>0.409524</td>\n",
       "      <td>0.673235</td>\n",
       "    </tr>\n",
       "    <tr>\n",
       "      <td>27</td>\n",
       "      <td>27</td>\n",
       "      <td>US growth would reach 4.4% in 2004, but fall t...</td>\n",
       "      <td>Soaring oil 'hits world economy' The soaring c...</td>\n",
       "      <td>English</td>\n",
       "      <td>27</td>\n",
       "      <td>False</td>\n",
       "      <td>Soaring oil 'hits world economy' The soaring c...</td>\n",
       "      <td>The price of crude is about 50% higher than it...</td>\n",
       "      <td>Soaring oil 'hits world economy' The soaring c...</td>\n",
       "      <td>0.416357</td>\n",
       "      <td>0.777778</td>\n",
       "      <td>0.284264</td>\n",
       "      <td>0.374532</td>\n",
       "      <td>0.704225</td>\n",
       "      <td>0.255102</td>\n",
       "      <td>0.478261</td>\n",
       "      <td>0.758621</td>\n",
       "      <td>0.349206</td>\n",
       "      <td>0.703876</td>\n",
       "    </tr>\n",
       "  </tbody>\n",
       "</table>\n",
       "</div>"
      ],
      "text/plain": [
       "    index                                               Lead  \\\n",
       "2       2  Yukos' owner Menatep Group says it will ask Ro...   \n",
       "14     14  On Tuesday, the company's administrator, turna...   \n",
       "15     15  India's rupee has hit a five-year high after S...   \n",
       "23     23  The affected vehicles in the product recall ar...   \n",
       "27     27  US growth would reach 4.4% in 2004, but fall t...   \n",
       "\n",
       "                                                 Body Language  ID  isTrain  \\\n",
       "2   Yukos unit buyer faces loan claim The owners o...  English   2    False   \n",
       "14  Parmalat boasts doubled profits Parmalat, the ...  English  14    False   \n",
       "15  India's rupee hits five-year high India's rupe...  English  15    False   \n",
       "23  Safety alert as GM recalls cars The world's bi...  English  23    False   \n",
       "27  Soaring oil 'hits world economy' The soaring c...  English  27    False   \n",
       "\n",
       "                                        Summary_CRSum  \\\n",
       "2   Yukos unit buyer faces loan claim The owners o...   \n",
       "14  Less welcome was the news that the firm had be...   \n",
       "15  India's rupee hits five-year high India's rupe...   \n",
       "23  Safety alert as GM recalls cars The world's bi...   \n",
       "27  Soaring oil 'hits world economy' The soaring c...   \n",
       "\n",
       "                                 Summary_Fasttext_SIF  \\\n",
       "2   Rosneft officials were unavailable for comment...   \n",
       "14  But a crucial factor for the company's future ...   \n",
       "15  \"The upgrade is positive and basically people ...   \n",
       "23  This is because of possible malfunctions with ...   \n",
       "27  The price of crude is about 50% higher than it...   \n",
       "\n",
       "                                 Summary_Loc_Baseline      R1_f      R1_p  \\\n",
       "2   Yukos unit buyer faces loan claim The owners o...  0.404372  0.660714   \n",
       "14  Parmalat boasts doubled profits Parmalat, the ...  0.161765  0.234043   \n",
       "15  India's rupee hits five-year high India's rupe...  0.428571  0.512195   \n",
       "23  Safety alert as GM recalls cars The world's bi...  0.482412  0.827586   \n",
       "27  Soaring oil 'hits world economy' The soaring c...  0.416357  0.777778   \n",
       "\n",
       "        R1_r      R2_f      R2_p      R2_r      Rl_f      Rl_p      Rl_r  \\\n",
       "2   0.291339  0.276243  0.454545  0.198413  0.442748  0.674419  0.329545   \n",
       "14  0.123596  0.000000  0.000000  0.000000  0.127273  0.175000  0.100000   \n",
       "15  0.368421  0.354167  0.425000  0.303571  0.506329  0.588235  0.444444   \n",
       "23  0.340426  0.416244  0.719298  0.292857  0.547771  0.826923  0.409524   \n",
       "27  0.284264  0.374532  0.704225  0.255102  0.478261  0.758621  0.349206   \n",
       "\n",
       "    cosine_sim  \n",
       "2     0.647187  \n",
       "14    0.221596  \n",
       "15    0.573081  \n",
       "23    0.673235  \n",
       "27    0.703876  "
      ]
     },
     "execution_count": 16,
     "metadata": {},
     "output_type": "execute_result"
    }
   ],
   "source": [
    "test_data.head()"
   ]
  },
  {
   "cell_type": "code",
   "execution_count": 17,
   "metadata": {
    "scrolled": true
   },
   "outputs": [
    {
     "data": {
      "text/plain": [
       "count    8430.000000\n",
       "mean        0.095220\n",
       "std         0.128683\n",
       "min         0.000000\n",
       "25%         0.017544\n",
       "50%         0.054323\n",
       "75%         0.122939\n",
       "max         1.000000\n",
       "Name: R2_f, dtype: float64"
      ]
     },
     "execution_count": 17,
     "metadata": {},
     "output_type": "execute_result"
    }
   ],
   "source": [
    "test_data.R2_f.describe()"
   ]
  },
  {
   "cell_type": "code",
   "execution_count": 18,
   "metadata": {},
   "outputs": [
    {
     "data": {
      "text/plain": [
       "count    8430.000000\n",
       "mean        0.090179\n",
       "std         0.157655\n",
       "min         0.000000\n",
       "25%         0.011315\n",
       "50%         0.038462\n",
       "75%         0.092224\n",
       "max         1.000000\n",
       "Name: R2_p, dtype: float64"
      ]
     },
     "execution_count": 18,
     "metadata": {},
     "output_type": "execute_result"
    }
   ],
   "source": [
    "test_data.R2_p.describe()"
   ]
  },
  {
   "cell_type": "code",
   "execution_count": 19,
   "metadata": {},
   "outputs": [
    {
     "data": {
      "text/plain": [
       "count    8430.000000\n",
       "mean        0.144460\n",
       "std         0.157358\n",
       "min         0.000000\n",
       "25%         0.034483\n",
       "50%         0.103448\n",
       "75%         0.210526\n",
       "max         1.000000\n",
       "Name: R2_r, dtype: float64"
      ]
     },
     "execution_count": 19,
     "metadata": {},
     "output_type": "execute_result"
    }
   ],
   "source": [
    "test_data.R2_r.describe()"
   ]
  },
  {
   "cell_type": "code",
   "execution_count": 20,
   "metadata": {},
   "outputs": [
    {
     "data": {
      "text/plain": [
       "count    8430.000000\n",
       "mean        0.547844\n",
       "std         0.165931\n",
       "min        -0.044249\n",
       "25%         0.439824\n",
       "50%         0.563739\n",
       "75%         0.669051\n",
       "max         1.000000\n",
       "Name: cosine_sim, dtype: float64"
      ]
     },
     "execution_count": 20,
     "metadata": {},
     "output_type": "execute_result"
    }
   ],
   "source": [
    "test_data.cosine_sim.describe()"
   ]
  },
  {
   "cell_type": "code",
   "execution_count": null,
   "metadata": {},
   "outputs": [],
   "source": []
  }
 ],
 "metadata": {
  "kernelspec": {
   "display_name": "Python 3",
   "language": "python",
   "name": "python3"
  },
  "language_info": {
   "codemirror_mode": {
    "name": "ipython",
    "version": 3
   },
   "file_extension": ".py",
   "mimetype": "text/x-python",
   "name": "python",
   "nbconvert_exporter": "python",
   "pygments_lexer": "ipython3",
   "version": "3.7.4"
  }
 },
 "nbformat": 4,
 "nbformat_minor": 2
}
